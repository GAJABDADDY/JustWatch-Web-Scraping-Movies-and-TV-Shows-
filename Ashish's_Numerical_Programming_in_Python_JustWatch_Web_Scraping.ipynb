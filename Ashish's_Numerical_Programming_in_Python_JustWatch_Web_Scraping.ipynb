{
  "nbformat": 4,
  "nbformat_minor": 0,
  "metadata": {
    "colab": {
      "provenance": [],
      "collapsed_sections": [
        "bKFlk3slQ1ol"
      ],
      "include_colab_link": true
    },
    "kernelspec": {
      "name": "python3",
      "display_name": "Python 3"
    },
    "language_info": {
      "name": "python"
    }
  },
  "cells": [
    {
      "cell_type": "markdown",
      "metadata": {
        "id": "view-in-github",
        "colab_type": "text"
      },
      "source": [
        "<a href=\"https://colab.research.google.com/github/GAJABDADDY/JustWatch-Web-Scraping-Movies-and-TV-Shows-/blob/main/Ashish's_Numerical_Programming_in_Python_JustWatch_Web_Scraping.ipynb\" target=\"_parent\"><img src=\"https://colab.research.google.com/assets/colab-badge.svg\" alt=\"Open In Colab\"/></a>"
      ]
    },
    {
      "cell_type": "markdown",
      "source": [
        "# **Web Scraping & Data Handling Challenge**"
      ],
      "metadata": {
        "id": "bKFlk3slQ1ol"
      }
    },
    {
      "cell_type": "markdown",
      "source": [
        "\n",
        "\n",
        "### **Website:**\n",
        "JustWatch -  https://www.justwatch.com/in/movies?release_year_from=2000\n",
        "\n",
        "\n",
        "### **Description:**\n",
        "\n",
        "JustWatch is a popular platform that allows users to search for movies and TV shows across multiple streaming services like Netflix, Amazon Prime, Hulu, etc. For this assignment, you will be required to scrape movie and TV show data from JustWatch using Selenium, Python, and BeautifulSoup. Extract data from HTML, not by directly calling their APIs. Then, perform data filtering and analysis using Pandas, and finally, save the results to a CSV file.\n",
        "\n",
        "### **Tasks:**\n",
        "\n",
        "**1. Web Scraping:**\n",
        "\n",
        "Use BeautifulSoup to scrape the following data from JustWatch:\n",
        "\n",
        "   **a. Movie Information:**\n",
        "\n",
        "      - Movie title\n",
        "      - Release year\n",
        "      - Genre\n",
        "      - IMDb rating\n",
        "      - Streaming services available (Netflix, Amazon Prime, Hulu, etc.)\n",
        "      - URL to the movie page on JustWatch\n",
        "\n",
        "   **b. TV Show Information:**\n",
        "\n",
        "      - TV show title\n",
        "      - Release year\n",
        "      - Genre\n",
        "      - IMDb rating\n",
        "      - Streaming services available (Netflix, Amazon Prime, Hulu, etc.)\n",
        "      - URL to the TV show page on JustWatch\n",
        "\n",
        "  **c. Scope:**\n",
        "\n",
        "```\n",
        " ` - Scrape data for at least 50 movies and 50 TV shows.\n",
        "   - You can choose the entry point (e.g., starting with popular movies,\n",
        "     or a specific genre, etc.) to ensure a diverse dataset.`\n",
        "\n",
        "```\n",
        "\n",
        "\n",
        "**2. Data Filtering & Analysis:**\n",
        "\n",
        "   After scraping the data, use Pandas to perform the following tasks:\n",
        "\n",
        "   **a. Filter movies and TV shows based on specific criteria:**\n",
        "\n",
        "   ```\n",
        "      - Only include movies and TV shows released in the last 2 years (from the current date).\n",
        "      - Only include movies and TV shows with an IMDb rating of 7 or higher.\n",
        "```\n",
        "\n",
        "   **b. Data Analysis:**\n",
        "\n",
        "   ```\n",
        "      - Calculate the average IMDb rating for the scraped movies and TV shows.\n",
        "      - Identify the top 5 genres that have the highest number of available movies and TV shows.\n",
        "      - Determine the streaming service with the most significant number of offerings.\n",
        "      \n",
        "   ```   \n",
        "\n",
        "**3. Data Export:**\n",
        "\n",
        "```\n",
        "   - Dump the filtered and analysed data into a CSV file for further processing and reporting.\n",
        "\n",
        "   - Keep the CSV file in your Drive Folder and Share the Drive link on the colab while keeping view access with anyone.\n",
        "```\n",
        "\n",
        "**Submission:**\n",
        "```\n",
        "- Submit a link to your Colab made for the assignment.\n",
        "\n",
        "- The Colab should contain your Python script (.py format only) with clear\n",
        "  comments explaining the scraping, filtering, and analysis process.\n",
        "\n",
        "- Your Code shouldn't have any errors and should be executable at a one go.\n",
        "\n",
        "- Before Conclusion, Keep your Dataset Drive Link in the Notebook.\n",
        "```\n",
        "\n",
        "\n",
        "\n",
        "**Note:**\n",
        "\n",
        "1. Properly handle errors and exceptions during web scraping to ensure a robust script.\n",
        "\n",
        "2. Make sure your code is well-structured, easy to understand, and follows Python best practices.\n",
        "\n",
        "3. The assignment will be evaluated based on the correctness of the scraped data, accuracy of data filtering and analysis, and the overall quality of the Python code.\n",
        "\n",
        "\n",
        "\n",
        "\n",
        "\n",
        "\n"
      ],
      "metadata": {
        "id": "YU_opgaCYpcO"
      }
    },
    {
      "cell_type": "markdown",
      "source": [
        "# **Start The Project**"
      ],
      "metadata": {
        "id": "k8ptoMlNQ5zB"
      }
    },
    {
      "cell_type": "markdown",
      "source": [
        "## **Note: There may be several NA values present in the dataset which unfortunately arises due to the inconsistent layout and multiple tags which are present with same names in the website html code.**\n",
        "\n",
        "## **Therefore, the results obtained are different each time due to this issue..**\n",
        "\n",
        "## **This is the end result after 30+ hours of troubleshooting..**\n",
        "\n",
        "## **It is advised to run the code multiple times for a more consistent result.**\n"
      ],
      "metadata": {
        "id": "AMTVsL1wCMbo"
      }
    },
    {
      "cell_type": "markdown",
      "source": [
        "## **Task 1:- Web Scrapping**"
      ],
      "metadata": {
        "id": "-xHLaFLPn4yC"
      }
    },
    {
      "cell_type": "code",
      "source": [
        "#Installing all necessary labraries\n",
        "!pip install bs4\n",
        "!pip install requests"
      ],
      "metadata": {
        "id": "axiEsy9ZL3qd",
        "colab": {
          "base_uri": "https://localhost:8080/"
        },
        "outputId": "95168c20-1b85-4821-d625-c785f3960318"
      },
      "execution_count": 1,
      "outputs": [
        {
          "output_type": "stream",
          "name": "stdout",
          "text": [
            "Requirement already satisfied: bs4 in /usr/local/lib/python3.10/dist-packages (0.0.2)\n",
            "Requirement already satisfied: beautifulsoup4 in /usr/local/lib/python3.10/dist-packages (from bs4) (4.12.3)\n",
            "Requirement already satisfied: soupsieve>1.2 in /usr/local/lib/python3.10/dist-packages (from beautifulsoup4->bs4) (2.5)\n",
            "Requirement already satisfied: requests in /usr/local/lib/python3.10/dist-packages (2.31.0)\n",
            "Requirement already satisfied: charset-normalizer<4,>=2 in /usr/local/lib/python3.10/dist-packages (from requests) (3.3.2)\n",
            "Requirement already satisfied: idna<4,>=2.5 in /usr/local/lib/python3.10/dist-packages (from requests) (3.7)\n",
            "Requirement already satisfied: urllib3<3,>=1.21.1 in /usr/local/lib/python3.10/dist-packages (from requests) (2.0.7)\n",
            "Requirement already satisfied: certifi>=2017.4.17 in /usr/local/lib/python3.10/dist-packages (from requests) (2024.2.2)\n"
          ]
        }
      ]
    },
    {
      "cell_type": "code",
      "source": [
        "#import all necessary labraries\n",
        "import requests\n",
        "from bs4 import BeautifulSoup\n",
        "import re\n",
        "import pandas as pd\n",
        "import numpy as np\n",
        "import random\n",
        "\n",
        "# Seed the random number generator\n",
        "random.seed(42)"
      ],
      "metadata": {
        "id": "omJlLZASQBmU"
      },
      "execution_count": 2,
      "outputs": []
    },
    {
      "cell_type": "markdown",
      "source": [
        "## **Scrapping Movies Data**"
      ],
      "metadata": {
        "id": "NCWbwB1Og3bD"
      }
    },
    {
      "cell_type": "code",
      "source": [
        "# Specifying the URL from which movies related data will be fetched\n",
        "url='https://www.justwatch.com/in/movies?release_year_from=2000'\n",
        "\n",
        "# Sending an HTTP GET request to the URL\n",
        "page=requests.get(url)\n",
        "# Parsing the HTML content using BeautifulSoup with the 'html.parser'\n",
        "soup=BeautifulSoup(page.text,'html.parser')\n",
        "# Printing the prettified HTML content\n",
        "#print(soup.prettify())"
      ],
      "metadata": {
        "id": "nPDgza5mQJKr"
      },
      "execution_count": 3,
      "outputs": []
    },
    {
      "cell_type": "markdown",
      "source": [
        "## **Fetching Movie URL's**"
      ],
      "metadata": {
        "id": "V-qsNrtIsBEp"
      }
    },
    {
      "cell_type": "code",
      "source": [
        "# Fetching Movie URLs using soup's .find_all function\n",
        "\n",
        "movie_url=[]\n",
        "base_url='https://www.justwatch.com'\n",
        "\n",
        "movie_urls = soup.find_all(\"a\", {'class': \"title-list-grid__item--link\"})\n",
        "for movie in movie_urls:\n",
        "    movie_url.append(base_url + movie['href'])\n",
        "\n",
        "movie_url"
      ],
      "metadata": {
        "colab": {
          "base_uri": "https://localhost:8080/"
        },
        "id": "TUaekr3bGYG0",
        "outputId": "b7329704-aae9-402e-99f9-caec2a0c1d69"
      },
      "execution_count": 4,
      "outputs": [
        {
          "output_type": "execute_result",
          "data": {
            "text/plain": [
              "['https://www.justwatch.com/in/movie/laapataa-ladies',\n",
              " 'https://www.justwatch.com/in/movie/article-370',\n",
              " 'https://www.justwatch.com/in/movie/manjummel-boys',\n",
              " 'https://www.justwatch.com/in/movie/family-star',\n",
              " 'https://www.justwatch.com/in/movie/dune-part-two',\n",
              " 'https://www.justwatch.com/in/movie/black-magic-2024',\n",
              " 'https://www.justwatch.com/in/movie/premalu',\n",
              " 'https://www.justwatch.com/in/movie/aavesham-2024',\n",
              " 'https://www.justwatch.com/in/movie/untitled-shahid-kapoor-kriti-sanon-film',\n",
              " 'https://www.justwatch.com/in/movie/the-crew-2024',\n",
              " 'https://www.justwatch.com/in/movie/yodha-2022',\n",
              " 'https://www.justwatch.com/in/movie/oppenheimer',\n",
              " 'https://www.justwatch.com/in/movie/godzilla-x-kong-the-new-empire',\n",
              " 'https://www.justwatch.com/in/movie/hanu-man',\n",
              " 'https://www.justwatch.com/in/movie/anyone-but-you',\n",
              " 'https://www.justwatch.com/in/movie/monkey-man',\n",
              " 'https://www.justwatch.com/in/movie/madgaon-express',\n",
              " 'https://www.justwatch.com/in/movie/kung-fu-panda-4',\n",
              " 'https://www.justwatch.com/in/movie/amar-singh-chamkila',\n",
              " 'https://www.justwatch.com/in/movie/tillu-square',\n",
              " 'https://www.justwatch.com/in/movie/dune-2021',\n",
              " 'https://www.justwatch.com/in/movie/the-beekeeper-2024',\n",
              " 'https://www.justwatch.com/in/movie/animal-2022',\n",
              " 'https://www.justwatch.com/in/movie/777-charlie',\n",
              " 'https://www.justwatch.com/in/movie/anatomie-dune-chute',\n",
              " 'https://www.justwatch.com/in/movie/godzilla-minus-one',\n",
              " 'https://www.justwatch.com/in/movie/12th-fail',\n",
              " 'https://www.justwatch.com/in/movie/the-idea-of-you',\n",
              " 'https://www.justwatch.com/in/movie/gaami',\n",
              " 'https://www.justwatch.com/in/movie/dj-tillu',\n",
              " 'https://www.justwatch.com/in/movie/hereditary',\n",
              " 'https://www.justwatch.com/in/movie/fighter-2022',\n",
              " 'https://www.justwatch.com/in/movie/kampon',\n",
              " 'https://www.justwatch.com/in/movie/salaar',\n",
              " 'https://www.justwatch.com/in/movie/365-days',\n",
              " 'https://www.justwatch.com/in/movie/bramayugam',\n",
              " 'https://www.justwatch.com/in/movie/crakk-jeetegaa-toh-jiyegaa',\n",
              " 'https://www.justwatch.com/in/movie/sam-bahadur',\n",
              " 'https://www.justwatch.com/in/movie/poor-things',\n",
              " 'https://www.justwatch.com/in/movie/harry-potter-and-the-philosophers-stone',\n",
              " 'https://www.justwatch.com/in/movie/speak-no-evil-2022',\n",
              " 'https://www.justwatch.com/in/movie/the-raid',\n",
              " 'https://www.justwatch.com/in/movie/rebel-moon-part-two-the-scargiver',\n",
              " 'https://www.justwatch.com/in/movie/wild-tales',\n",
              " 'https://www.justwatch.com/in/movie/kung-fu-panda',\n",
              " 'https://www.justwatch.com/in/movie/madame-web',\n",
              " 'https://www.justwatch.com/in/movie/bade-miyan-chote-miyan-2023',\n",
              " 'https://www.justwatch.com/in/movie/anchakkallakokkan',\n",
              " 'https://www.justwatch.com/in/movie/rise-of-the-planet-of-the-apes',\n",
              " 'https://www.justwatch.com/in/movie/silence-2-the-night-owl-bar-shootout',\n",
              " 'https://www.justwatch.com/in/movie/challengers',\n",
              " 'https://www.justwatch.com/in/movie/aquaman-and-the-lost-kingdom',\n",
              " 'https://www.justwatch.com/in/movie/migration',\n",
              " 'https://www.justwatch.com/in/movie/maidaan',\n",
              " 'https://www.justwatch.com/in/movie/all-india-rank',\n",
              " 'https://www.justwatch.com/in/movie/om-bheem-bush',\n",
              " 'https://www.justwatch.com/in/movie/romeo-2024',\n",
              " 'https://www.justwatch.com/in/movie/aadujeevitham',\n",
              " 'https://www.justwatch.com/in/movie/late-night-with-the-devil',\n",
              " 'https://www.justwatch.com/in/movie/ranam-2024',\n",
              " 'https://www.justwatch.com/in/movie/the-kerala-story',\n",
              " 'https://www.justwatch.com/in/movie/pushpa',\n",
              " 'https://www.justwatch.com/in/movie/ravening',\n",
              " 'https://www.justwatch.com/in/movie/road-house-2024',\n",
              " 'https://www.justwatch.com/in/movie/argylle',\n",
              " 'https://www.justwatch.com/in/movie/exhuma',\n",
              " 'https://www.justwatch.com/in/movie/godzilla-vs-kong',\n",
              " 'https://www.justwatch.com/in/movie/the-lord-of-the-rings-the-fellowship-of-the-ring',\n",
              " 'https://www.justwatch.com/in/movie/the-fall-guy',\n",
              " 'https://www.justwatch.com/in/movie/veppam-kulir-mazhai',\n",
              " 'https://www.justwatch.com/in/movie/siren-2024',\n",
              " 'https://www.justwatch.com/in/movie/may-december',\n",
              " 'https://www.justwatch.com/in/movie/13-bom-di-jakarta',\n",
              " 'https://www.justwatch.com/in/movie/the-gangster-the-cop-the-devil',\n",
              " 'https://www.justwatch.com/in/movie/wonka',\n",
              " 'https://www.justwatch.com/in/movie/hatching',\n",
              " 'https://www.justwatch.com/in/movie/war-for-the-planet-of-the-apes',\n",
              " 'https://www.justwatch.com/in/movie/civil-war-2024-0',\n",
              " 'https://www.justwatch.com/in/movie/zara-hatke-zara-bach-ke',\n",
              " 'https://www.justwatch.com/in/movie/bhimaa',\n",
              " 'https://www.justwatch.com/in/movie/k-g-f-chapter-2',\n",
              " 'https://www.justwatch.com/in/movie/kaam-chalu-hai',\n",
              " 'https://www.justwatch.com/in/movie/dada-2023',\n",
              " 'https://www.justwatch.com/in/movie/joker-2019',\n",
              " 'https://www.justwatch.com/in/movie/dear-2024',\n",
              " 'https://www.justwatch.com/in/movie/operation-valentine',\n",
              " 'https://www.justwatch.com/in/movie/ghostbusters-frozen-empire',\n",
              " 'https://www.justwatch.com/in/movie/joram',\n",
              " 'https://www.justwatch.com/in/movie/antrum',\n",
              " 'https://www.justwatch.com/in/movie/kingdom-of-the-planet-of-the-apes',\n",
              " 'https://www.justwatch.com/in/movie/the-spacewalker',\n",
              " 'https://www.justwatch.com/in/movie/the-intern',\n",
              " 'https://www.justwatch.com/in/movie/chaari-111',\n",
              " 'https://www.justwatch.com/in/movie/omg-2',\n",
              " 'https://www.justwatch.com/in/movie/aattam',\n",
              " 'https://www.justwatch.com/in/movie/interstellar',\n",
              " 'https://www.justwatch.com/in/movie/the-wolf-of-wall-street',\n",
              " 'https://www.justwatch.com/in/movie/dawn-of-the-planet-of-the-apes',\n",
              " 'https://www.justwatch.com/in/movie/kingdom-of-heaven',\n",
              " 'https://www.justwatch.com/in/movie/kaagaz-2']"
            ]
          },
          "metadata": {},
          "execution_count": 4
        }
      ]
    },
    {
      "cell_type": "code",
      "source": [
        "count = len(movie_url)\n",
        "count"
      ],
      "metadata": {
        "colab": {
          "base_uri": "https://localhost:8080/"
        },
        "id": "ZUGaYYx6lZfO",
        "outputId": "156c71d1-fcba-4540-d005-25332cf72372"
      },
      "execution_count": 5,
      "outputs": [
        {
          "output_type": "execute_result",
          "data": {
            "text/plain": [
              "100"
            ]
          },
          "metadata": {},
          "execution_count": 5
        }
      ]
    },
    {
      "cell_type": "markdown",
      "source": [
        "Here, soup's .find_all() functions finds all the occurence of the specified paramater i.e. 'a' referring to the anchor tag with the class: \"title-list-grid__item--link\".\n",
        "\n",
        "Thereafter using a loop returns all the movie urls."
      ],
      "metadata": {
        "id": "z23t4mhDGzTm"
      }
    },
    {
      "cell_type": "markdown",
      "source": [
        "## **Scrapping Movie Title**"
      ],
      "metadata": {
        "id": "Dam_ehZgvgmw"
      }
    },
    {
      "cell_type": "code",
      "source": [
        "# Fetching Movie titles using soup's .find_all function\n",
        "\n",
        "movie_title=[]\n",
        "\n",
        "movie_titles = soup.find_all(\"div\", {'class': \"title-list-grid__item\"})\n",
        "for movie in movie_titles:\n",
        "    movie_title.append(movie['data-title'])\n",
        "\n",
        "movie_title"
      ],
      "metadata": {
        "id": "1FGDXRKQxd1s",
        "colab": {
          "base_uri": "https://localhost:8080/"
        },
        "outputId": "f05e3fbc-63de-486f-9d9c-3720af90df96"
      },
      "execution_count": 6,
      "outputs": [
        {
          "output_type": "execute_result",
          "data": {
            "text/plain": [
              "['Laapataa Ladies',\n",
              " 'Article 370',\n",
              " 'Manjummel Boys',\n",
              " 'Family Star',\n",
              " 'Dune: Part Two',\n",
              " 'Shaitaan',\n",
              " 'Premalu',\n",
              " 'Aavesham',\n",
              " 'Teri Baaton Mein Aisa Uljha Jiya',\n",
              " 'Crew',\n",
              " 'Yodha',\n",
              " 'Oppenheimer',\n",
              " 'Godzilla x Kong: The New Empire',\n",
              " 'Hanu-Man',\n",
              " 'Anyone But You',\n",
              " 'Monkey Man',\n",
              " 'Madgaon Express',\n",
              " 'Kung Fu Panda 4',\n",
              " 'Amar Singh Chamkila',\n",
              " 'Tillu Square',\n",
              " 'Dune',\n",
              " 'The Beekeeper',\n",
              " 'Animal',\n",
              " '777 Charlie',\n",
              " 'Anatomy of a Fall',\n",
              " 'Godzilla Minus One',\n",
              " '12th Fail',\n",
              " 'The Idea of You',\n",
              " 'Gaami',\n",
              " 'DJ Tillu',\n",
              " 'Hereditary',\n",
              " 'Fighter',\n",
              " 'Kampon',\n",
              " 'Salaar',\n",
              " '365 Days',\n",
              " 'Bramayugam',\n",
              " 'Crakk: Jeetega... Toh Jiyegaa',\n",
              " 'Sam Bahadur',\n",
              " 'Poor Things',\n",
              " \"Harry Potter and the Philosopher's Stone\",\n",
              " 'Speak No Evil',\n",
              " 'The Raid',\n",
              " 'Rebel Moon - Part Two: The Scargiver',\n",
              " 'Wild Tales',\n",
              " 'Kung Fu Panda',\n",
              " 'Madame Web',\n",
              " 'Bade Miyan Chote Miyan',\n",
              " 'Anchakkallakokkan',\n",
              " 'Rise of the Planet of the Apes',\n",
              " 'Silence 2: The Night Owl Bar Shootout',\n",
              " 'Challengers',\n",
              " 'Aquaman and the Lost Kingdom',\n",
              " 'Migration',\n",
              " 'Maidaan',\n",
              " 'All India Rank',\n",
              " 'Om Bheem Bush',\n",
              " 'Romeo',\n",
              " 'The Goat Life',\n",
              " 'Late Night with the Devil',\n",
              " 'Ranam Aram Thavarel',\n",
              " 'The Kerala Story',\n",
              " 'Pushpa: The Rise',\n",
              " 'Ravening',\n",
              " 'Road House',\n",
              " 'Argylle',\n",
              " 'Exhuma',\n",
              " 'Godzilla vs. Kong',\n",
              " 'The Lord of the Rings: The Fellowship of the Ring',\n",
              " 'The Fall Guy',\n",
              " 'Veppam Kulir Mazhai',\n",
              " 'Siren',\n",
              " 'May December',\n",
              " '13 Bombs',\n",
              " 'The Gangster, the Cop, the Devil',\n",
              " 'Wonka',\n",
              " 'Hatching',\n",
              " 'War for the Planet of the Apes',\n",
              " 'Civil War',\n",
              " 'Zara Hatke Zara Bachke',\n",
              " 'Bhimaa',\n",
              " 'K.G.F: Chapter 2',\n",
              " 'Kaam Chalu Hai',\n",
              " 'Dada',\n",
              " 'Joker',\n",
              " 'DeAr',\n",
              " 'Operation Valentine',\n",
              " 'Ghostbusters: Frozen Empire',\n",
              " 'Joram',\n",
              " 'Antrum',\n",
              " 'Kingdom of the Planet of the Apes',\n",
              " 'The Spacewalker',\n",
              " 'The Intern',\n",
              " 'Chaari 111',\n",
              " 'OMG 2',\n",
              " 'Aattam',\n",
              " 'Interstellar',\n",
              " 'The Wolf of Wall Street',\n",
              " 'Dawn of the Planet of the Apes',\n",
              " 'Kingdom of Heaven',\n",
              " 'Kaagaz 2']"
            ]
          },
          "metadata": {},
          "execution_count": 6
        }
      ]
    },
    {
      "cell_type": "code",
      "source": [
        "count = len(movie_title)\n",
        "count"
      ],
      "metadata": {
        "colab": {
          "base_uri": "https://localhost:8080/"
        },
        "id": "LmXGS0EBlVvY",
        "outputId": "61a15e27-1d89-491c-c372-15ca7e16001a"
      },
      "execution_count": 7,
      "outputs": [
        {
          "output_type": "execute_result",
          "data": {
            "text/plain": [
              "100"
            ]
          },
          "metadata": {},
          "execution_count": 7
        }
      ]
    },
    {
      "cell_type": "markdown",
      "source": [
        "Here, soup's .find_all() functions finds all the occurence of the specified paramater i.e. 'div' referring to the div tag with the class: \"title-list-grid__item\".\n",
        "\n",
        "Thereafter using a loop returns all the movie titles."
      ],
      "metadata": {
        "id": "shYYxthCIJoy"
      }
    },
    {
      "cell_type": "markdown",
      "source": [
        "## **Scrapping release Year**"
      ],
      "metadata": {
        "id": "VEg1U1uPzGoj"
      }
    },
    {
      "cell_type": "code",
      "source": [
        "import requests\n",
        "from bs4 import BeautifulSoup\n",
        "\n",
        "movie_release_year = []\n",
        "\n",
        "for url in movie_url:\n",
        "    response = requests.get(url)\n",
        "    soup = BeautifulSoup(response.text, \"html.parser\")\n",
        "\n",
        "#<div class=\"title-block\"><div data-testid=\"titleBlock\"><h1> Laapataa Ladies </h1><span class=\"text-muted\"> (2024) </span></div><!----><!----><!----></div>\n",
        "\n",
        "    try:\n",
        "      data = soup.find('div', {'class':'title-block'})\n",
        "      if data:\n",
        "        data2 = data.find('div', {'data-testid':'titleBlock'})\n",
        "      if data2:\n",
        "        year = data2.find('span', {'class':'text-muted'})\n",
        "        if year:\n",
        "            # Remove leading and trailing parentheses from the text\n",
        "            release_year = year.text.strip(\"( )\")\n",
        "            movie_release_year.append(release_year)\n",
        "    except AttributeError:\n",
        "        pass\n",
        "\n",
        "print(movie_release_year)\n"
      ],
      "metadata": {
        "colab": {
          "base_uri": "https://localhost:8080/"
        },
        "id": "KE7t4lcYSstT",
        "outputId": "dc628a11-1513-48ec-fde7-3995a213a1a0"
      },
      "execution_count": 8,
      "outputs": [
        {
          "output_type": "stream",
          "name": "stdout",
          "text": [
            "['2024', '2024', '2024', '2024', '2024', '2024', '2024', '2024', '2024', '2024', '2024', '2023', '2024', '2024', '2023', '2024', '2024', '2024', '2024', '2024', '2021', '2024', '2023', '2022', '2023', '2023', '2023', '2024', '2024', '2022', '2018', '2024', '2023', '2023', '2020', '2024', '2024', '2024', '2024', '2024', '2024', '2012', '2012', '2012', '2012', '2012', '2012', '2012', '2012', '2012', '2012', '2012', '2023', '2023', '2023', '2023', '2023', '2023', '2023', '2023', '2023', '2023', '2023', '2023', '2023', '2023', '2021', '2021', '2021', '2021', '2021', '2021', '2021', '2021', '2021', '2021', '2021', '2021', '2021', '2021', '2021', '2021', '2023', '2023', '2023', '2023', '2023', '2023', '2023', '2023', '2023', '2023', '2023', '2023', '2023', '2023', '2023', '2023', '2005', '2005']\n"
          ]
        }
      ]
    },
    {
      "cell_type": "code",
      "source": [
        "count = len(movie_release_year)\n",
        "count"
      ],
      "metadata": {
        "id": "pT9iENaolQPv",
        "colab": {
          "base_uri": "https://localhost:8080/"
        },
        "outputId": "8a55de0f-f9ac-4760-cb5d-1ae66f3696e8"
      },
      "execution_count": 9,
      "outputs": [
        {
          "output_type": "execute_result",
          "data": {
            "text/plain": [
              "100"
            ]
          },
          "metadata": {},
          "execution_count": 9
        }
      ]
    },
    {
      "cell_type": "markdown",
      "source": [
        "## **Scrapping Genres**"
      ],
      "metadata": {
        "id": "aqzhL8STqaMX"
      }
    },
    {
      "cell_type": "code",
      "source": [
        "import requests\n",
        "from bs4 import BeautifulSoup\n",
        "\n",
        "movie_genre = []\n",
        "\n",
        "for url in movie_url:\n",
        "  response = requests.get(url)\n",
        "  soup = BeautifulSoup(response.text, \"html.parser\")\n",
        "\n",
        "  #<div class=\"title-info visible-xs visible-sm\" data-v-428b574a=\"\">\n",
        "  #<div class=\"detail-infos\">\n",
        "  #<h3 class=\"detail-infos__subheading\">Genres</h3>\n",
        "  #<div class=\"detail-infos__value\">Comedy, Drama</div></div>\n",
        "\n",
        "  try:\n",
        "    genre_indi = soup.find('h3', class_='detail-infos__subheading', string='Genres').find_next_sibling('div', class_='detail-infos__value')\n",
        "    movie_genre.append(genre_indi.string.strip())\n",
        "  except:\n",
        "    runtime_indi ='NA'\n",
        "    movie_genre.append(runtime_indi)\n",
        "\n",
        "#print(movie_genre)"
      ],
      "metadata": {
        "id": "tPMq_bfSvxi6"
      },
      "execution_count": 10,
      "outputs": []
    },
    {
      "cell_type": "code",
      "source": [
        "count = len(movie_genre)\n",
        "count"
      ],
      "metadata": {
        "id": "9tE4Vqb_k1Ol",
        "colab": {
          "base_uri": "https://localhost:8080/"
        },
        "outputId": "0a199c23-f2d6-4cd6-8129-dcf5c1159009"
      },
      "execution_count": 11,
      "outputs": [
        {
          "output_type": "execute_result",
          "data": {
            "text/plain": [
              "100"
            ]
          },
          "metadata": {},
          "execution_count": 11
        }
      ]
    },
    {
      "cell_type": "markdown",
      "source": [
        "## **Scrapping IMDB Rating**"
      ],
      "metadata": {
        "id": "UOof6-0xFuf6"
      }
    },
    {
      "cell_type": "code",
      "source": [
        "# Write Your Code here\n",
        "movie_imdb_rating =[]\n",
        "\n",
        "for url in movie_url:\n",
        "  response = requests.get(url)\n",
        "  soup = BeautifulSoup(response.text,\"html.parser\")\n",
        "\n",
        "  try:\n",
        "    Imdb = soup.find_all(\"div\",class_=\"jw-scoring-listing__rating\")[1].span\n",
        "    Imdb1= Imdb.text[1:4]\n",
        "  except Exception as e:\n",
        "    # print(err)\n",
        "    Imdb1 = \"NA\"\n",
        "  movie_imdb_rating.append(Imdb1)\n",
        "\n",
        "#print(movie_imdb_rating)"
      ],
      "metadata": {
        "id": "mKB9-WOE1Eq2"
      },
      "execution_count": 12,
      "outputs": []
    },
    {
      "cell_type": "code",
      "source": [
        "count = len(movie_imdb_rating)\n",
        "count"
      ],
      "metadata": {
        "colab": {
          "base_uri": "https://localhost:8080/"
        },
        "id": "4hFvb9ld1SOg",
        "outputId": "886ff2fb-1452-4f16-9ed8-65b01150ab28"
      },
      "execution_count": 13,
      "outputs": [
        {
          "output_type": "execute_result",
          "data": {
            "text/plain": [
              "100"
            ]
          },
          "metadata": {},
          "execution_count": 13
        }
      ]
    },
    {
      "cell_type": "markdown",
      "source": [
        "## **Scrapping Runtime/Duration**"
      ],
      "metadata": {
        "id": "8CHiu0A5RAuM"
      }
    },
    {
      "cell_type": "code",
      "source": [
        "import requests\n",
        "from bs4 import BeautifulSoup\n",
        "\n",
        "movie_runtime = []\n",
        "\n",
        "for url in movie_url:\n",
        "  response = requests.get(url)\n",
        "  soup = BeautifulSoup(response.text, \"html.parser\")\n",
        "\n",
        "  #<div class=\"title-info visible-xs visible-sm\" data-v-428b574a=\"\"><div class=\"detail-infos\" data-v-1e997566=\"\"><h3 class=\"detail-infos__subheading\" data-v-1e997566=\"\"> Streaming Charts <span class=\"detail-infos__subheading--icon\" data-v-1e997566=\"\"><svg aria-hidden=\"true\" focusable=\"false\" data-prefix=\"fas\" data-icon=\"circle-info\" role=\"img\" xmlns=\"http://www.w3.org/2000/svg\" viewBox=\"0 0 512 512\" class=\"svg-inline--fa fa-circle-info\" data-v-1e997566=\"\"><path fill=\"currentColor\" d=\"M256 512A256 256 0 1 0 256 0a256 256 0 1 0 0 512zM216 336h24V272H216c-13.3 0-24-10.7-24-24s10.7-24 24-24h48c13.3 0 24 10.7 24 24v88h8c13.3 0 24 10.7 24 24s-10.7 24-24 24H216c-13.3 0-24-10.7-24-24s10.7-24 24-24zm40-208a32 32 0 1 1 0 64 32 32 0 1 1 0-64z\" data-v-1e997566=\"\" class=\"\"></path></svg></span><div class=\"popover\" data-v-1e997566=\"\"><p data-v-1e997566=\"\"> The JustWatch Daily Streaming Charts are calculated by user activity within the last 24 hours. This includes clicking on a streaming offer, adding a title to a watchlist, and marking a title as 'seen'. This includes data from ~1.3 million movie &amp; TV show fans per day. </p></div></h3><div class=\"detail-infos__value\" data-v-1e997566=\"\"><div class=\"title-ranking-list\" data-v-338cbae4=\"\" data-v-1e997566=\"\"><img src=\"/appassets/img/jw-icon.png\" alt=\"JustWatch Logo\" class=\"title-ranking-list__img ls-is-cached lazyloaded\" data-v-338cbae4=\"\"><p class=\"title-ranking-list__rank\" data-v-338cbae4=\"\"> 05. </p><div class=\"arrow-container arrow-container--down\" data-v-338cbae4=\"\"><svg aria-hidden=\"true\" focusable=\"false\" data-prefix=\"fas\" data-icon=\"caret-up\" role=\"img\" xmlns=\"http://www.w3.org/2000/svg\" viewBox=\"0 0 320 512\" class=\"svg-inline--fa fa-caret-up fa-lg arrow-container__arrow arrow-container__arrow--down\" data-v-338cbae4=\"\"><path fill=\"currentColor\" d=\"M182.6 137.4c-12.5-12.5-32.8-12.5-45.3 0l-128 128c-9.2 9.2-11.9 22.9-6.9 34.9s16.6 19.8 29.6 19.8H288c12.9 0 24.6-7.8 29.6-19.8s2.2-25.7-6.9-34.9l-128-128z\" data-v-338cbae4=\"\" class=\"\"></path></svg><p data-v-338cbae4=\"\">-3</p></div><!----></div></div></div><div class=\"detail-infos\"><h3 class=\"detail-infos__subheading\">Rating</h3><div class=\"detail-infos__value\"><div><div class=\"jw-scoring-listing__rating\"><div><span class=\"jw-scoring-listing__rating--no-link\"><img src=\"/appassets/img/jw-icon.png\" alt=\"JustWatch Rating\" data-src=\"/appassets/img/jw-icon.png\" tooltip=\"JustWatch Rating\" class=\" ls-is-cached lazyloaded\"><span> 72% (191) </span></span></div></div><div class=\"jw-scoring-listing__rating\"><div><span class=\"\"><img src=\"/appassets/img/imdb-logo.png\" alt=\"IMDB\" data-src=\"/appassets/img/imdb-logo.png\" tooltip=\"IMDB\" class=\" ls-is-cached lazyloaded\"><span> 8.5  (18k) </span></span></div></div></div></div></div><div class=\"detail-infos\"><h3 class=\"detail-infos__subheading\">Genres</h3><div class=\"detail-infos__value\">Comedy, Drama</div></div><div class=\"detail-infos\"><h3 class=\"detail-infos__subheading\">Runtime</h3><div class=\"detail-infos__value\">2h 2min</div></div><div class=\"detail-infos\"><h3 class=\"detail-infos__subheading\">Age rating</h3><div class=\"detail-infos__value\">UA</div></div><div class=\"detail-infos\"><h3 class=\"detail-infos__subheading\" style=\"max-width: fit-content\"> Production country </h3><div class=\"detail-infos__value\">India</div></div><div class=\"detail-infos\"><h3 class=\"detail-infos__subheading\">Director</h3><div class=\"detail-infos__value\"><span><!----><span class=\"title-credit-name\" data-v-375bf9d1=\"\"> Kiran Rao </span></span></div></div><!----></div>\n",
        "  #<h3 class=\"detail-infos__subheading\">Runtime</h3>\n",
        "\n",
        "  try:\n",
        "    Runtime_indi = soup.find('h3', class_='detail-infos__subheading', string='Runtime').find_next_sibling('div', class_='detail-infos__value').text.strip()\n",
        "  except:\n",
        "      Runtime_indi ='NA'\n",
        "  movie_runtime.append(Runtime_indi)\n",
        "\n",
        "#print(movie_runtime)"
      ],
      "metadata": {
        "id": "drEMNoQZobM1"
      },
      "execution_count": 14,
      "outputs": []
    },
    {
      "cell_type": "code",
      "source": [
        "count = len(movie_runtime)\n",
        "count"
      ],
      "metadata": {
        "colab": {
          "base_uri": "https://localhost:8080/"
        },
        "id": "EH7oGLSqpNh3",
        "outputId": "58bb595c-d88c-4c8b-bc48-6e22ba24804b"
      },
      "execution_count": 15,
      "outputs": [
        {
          "output_type": "execute_result",
          "data": {
            "text/plain": [
              "100"
            ]
          },
          "metadata": {},
          "execution_count": 15
        }
      ]
    },
    {
      "cell_type": "markdown",
      "source": [
        "## **Scrapping Age Rating**"
      ],
      "metadata": {
        "id": "edb4gsNcRJQN"
      }
    },
    {
      "cell_type": "code",
      "source": [
        "# Write Your Code here\n",
        "\n",
        "movie_age_rating=[]\n",
        "\n",
        "for url in movie_url:\n",
        "  response = requests.get(url)\n",
        "  soup = BeautifulSoup(response.text,\"html.parser\")\n",
        "  try:\n",
        "    rating1 = soup.find('h3', class_='detail-infos__subheading', string='Age rating').find_next_sibling('div', class_='detail-infos__value').text.strip()\n",
        "  except:\n",
        "    rating1 = \"NA\"\n",
        "  movie_age_rating.append(rating1)\n",
        "\n",
        "#print(movie_age_rating)"
      ],
      "metadata": {
        "id": "ZsHskhOcNAUj"
      },
      "execution_count": 16,
      "outputs": []
    },
    {
      "cell_type": "code",
      "source": [
        "count = len(movie_age_rating)\n",
        "count"
      ],
      "metadata": {
        "colab": {
          "base_uri": "https://localhost:8080/"
        },
        "id": "XbY3-_5twyqI",
        "outputId": "3bb0245a-a11b-4e06-83b8-af50d55ff925"
      },
      "execution_count": 17,
      "outputs": [
        {
          "output_type": "execute_result",
          "data": {
            "text/plain": [
              "100"
            ]
          },
          "metadata": {},
          "execution_count": 17
        }
      ]
    },
    {
      "cell_type": "markdown",
      "source": [
        "## **Fetching Production Countries Details**"
      ],
      "metadata": {
        "id": "_RI5FD3CqFVV"
      }
    },
    {
      "cell_type": "code",
      "source": [
        "# Write Your Code here\n",
        "\n",
        "movie_country_origin =[]\n",
        "\n",
        "for url in movie_url:\n",
        "  response = requests.get(url)\n",
        "  soup = BeautifulSoup(response.text,\"html.parser\")\n",
        "  try:\n",
        "    country1 = soup.find('h3', class_='detail-infos__subheading', string=' Production country ').find_next_sibling('div', class_='detail-infos__value').text.strip()\n",
        "  except:\n",
        "    country1 = 'NA'\n",
        "  movie_country_origin.append(country1)\n",
        "\n",
        "#print(movie_country_origin)\n"
      ],
      "metadata": {
        "id": "ai6YOgZmYIcc"
      },
      "execution_count": 18,
      "outputs": []
    },
    {
      "cell_type": "code",
      "source": [
        "count = len(movie_country_origin)\n",
        "count"
      ],
      "metadata": {
        "colab": {
          "base_uri": "https://localhost:8080/"
        },
        "id": "ilyDDsjCxNxY",
        "outputId": "4eeed58a-aae7-45ff-f706-404bc2d7690f"
      },
      "execution_count": 19,
      "outputs": [
        {
          "output_type": "execute_result",
          "data": {
            "text/plain": [
              "100"
            ]
          },
          "metadata": {},
          "execution_count": 19
        }
      ]
    },
    {
      "cell_type": "markdown",
      "source": [
        "## **Fetching Streaming Service Details**"
      ],
      "metadata": {
        "id": "IrJlIsBWrO2r"
      }
    },
    {
      "cell_type": "code",
      "source": [
        "# Write Your Code here\n",
        "movie_streaming_provider =[]\n",
        "\n",
        "for url in movie_url:\n",
        "  response = requests.get(url)\n",
        "  try:\n",
        "    soup = BeautifulSoup(response.text,\"html.parser\")\n",
        "    Stream_provider = soup.find(\"div\",class_='buybox-row stream').find_all(\"img\",class_='offer__icon')\n",
        "    alt_values = [img['alt'] for img in Stream_provider]\n",
        "    alt_values = \",\".join(alt_values)\n",
        "\n",
        "  except AttributeError as err:\n",
        "    alt_values = 'NA'\n",
        "  movie_streaming_provider.append(alt_values)\n",
        "\n",
        "#print(movie_streaming_provider)"
      ],
      "metadata": {
        "id": "Yk72jDLZu7EZ"
      },
      "execution_count": 20,
      "outputs": []
    },
    {
      "cell_type": "code",
      "source": [
        "count = len(movie_streaming_provider)\n",
        "count"
      ],
      "metadata": {
        "colab": {
          "base_uri": "https://localhost:8080/"
        },
        "outputId": "8f17b0cf-3a5a-4d54-bcb2-b375636a4b33",
        "id": "llM4P01lyDOI"
      },
      "execution_count": 21,
      "outputs": [
        {
          "output_type": "execute_result",
          "data": {
            "text/plain": [
              "100"
            ]
          },
          "metadata": {},
          "execution_count": 21
        }
      ]
    },
    {
      "cell_type": "markdown",
      "source": [
        "## **Now Creating Movies DataFrame**"
      ],
      "metadata": {
        "id": "Mnh22VX_7f6K"
      }
    },
    {
      "cell_type": "code",
      "source": [
        "# Write Your Code here\n",
        "dict1 ={\"Title\":movie_title,\"Release Year\":movie_release_year,\"Genre\":movie_genre,\"Imdb Rating\":movie_imdb_rating,\"Runtime\":movie_runtime,\n",
        "        \"Age Rating\":movie_age_rating,\"Country origin\":movie_country_origin,\n",
        "        \"Url\":movie_url,\"Streaming Provider\":movie_streaming_provider,\"Type\" : 'Movie'}\n",
        "Movies_df = pd.DataFrame(dict1)\n"
      ],
      "metadata": {
        "id": "i7XQUICP5oBI"
      },
      "execution_count": 22,
      "outputs": []
    },
    {
      "cell_type": "code",
      "source": [
        "Movies_df"
      ],
      "metadata": {
        "colab": {
          "base_uri": "https://localhost:8080/",
          "height": 423
        },
        "id": "RN1A1zic14Fg",
        "outputId": "716eeaf0-fa89-4af9-d181-35df99246c60"
      },
      "execution_count": 23,
      "outputs": [
        {
          "output_type": "execute_result",
          "data": {
            "text/plain": [
              "                             Title Release Year Genre Imdb Rating   Runtime  \\\n",
              "0                  Laapataa Ladies         2024    NA          NA        NA   \n",
              "1                      Article 370         2024    NA          NA  2h 38min   \n",
              "2                   Manjummel Boys         2024    NA          NA        NA   \n",
              "3                      Family Star         2024    NA          NA        NA   \n",
              "4                   Dune: Part Two         2024    NA          NA        NA   \n",
              "..                             ...          ...   ...         ...       ...   \n",
              "95                    Interstellar         2023    NA          NA  2h 49min   \n",
              "96         The Wolf of Wall Street         2023    NA          NA        NA   \n",
              "97  Dawn of the Planet of the Apes         2023    NA          NA        NA   \n",
              "98               Kingdom of Heaven         2005    NA          NA        NA   \n",
              "99                        Kaagaz 2         2005    NA          NA        NA   \n",
              "\n",
              "   Age Rating Country origin  \\\n",
              "0          NA             NA   \n",
              "1          NA             NA   \n",
              "2          NA             NA   \n",
              "3          NA             NA   \n",
              "4          NA             NA   \n",
              "..        ...            ...   \n",
              "95         NA             NA   \n",
              "96         NA             NA   \n",
              "97         NA             NA   \n",
              "98         NA             NA   \n",
              "99         NA             NA   \n",
              "\n",
              "                                                  Url Streaming Provider  \\\n",
              "0   https://www.justwatch.com/in/movie/laapataa-la...                 NA   \n",
              "1      https://www.justwatch.com/in/movie/article-370                 NA   \n",
              "2   https://www.justwatch.com/in/movie/manjummel-boys                 NA   \n",
              "3      https://www.justwatch.com/in/movie/family-star                 NA   \n",
              "4    https://www.justwatch.com/in/movie/dune-part-two                 NA   \n",
              "..                                                ...                ...   \n",
              "95    https://www.justwatch.com/in/movie/interstellar                 NA   \n",
              "96  https://www.justwatch.com/in/movie/the-wolf-of...                 NA   \n",
              "97  https://www.justwatch.com/in/movie/dawn-of-the...                 NA   \n",
              "98  https://www.justwatch.com/in/movie/kingdom-of-...                 NA   \n",
              "99        https://www.justwatch.com/in/movie/kaagaz-2                 NA   \n",
              "\n",
              "     Type  \n",
              "0   Movie  \n",
              "1   Movie  \n",
              "2   Movie  \n",
              "3   Movie  \n",
              "4   Movie  \n",
              "..    ...  \n",
              "95  Movie  \n",
              "96  Movie  \n",
              "97  Movie  \n",
              "98  Movie  \n",
              "99  Movie  \n",
              "\n",
              "[100 rows x 10 columns]"
            ],
            "text/html": [
              "\n",
              "  <div id=\"df-b19d6d0a-79a0-4ebd-b32a-e113933f737a\" class=\"colab-df-container\">\n",
              "    <div>\n",
              "<style scoped>\n",
              "    .dataframe tbody tr th:only-of-type {\n",
              "        vertical-align: middle;\n",
              "    }\n",
              "\n",
              "    .dataframe tbody tr th {\n",
              "        vertical-align: top;\n",
              "    }\n",
              "\n",
              "    .dataframe thead th {\n",
              "        text-align: right;\n",
              "    }\n",
              "</style>\n",
              "<table border=\"1\" class=\"dataframe\">\n",
              "  <thead>\n",
              "    <tr style=\"text-align: right;\">\n",
              "      <th></th>\n",
              "      <th>Title</th>\n",
              "      <th>Release Year</th>\n",
              "      <th>Genre</th>\n",
              "      <th>Imdb Rating</th>\n",
              "      <th>Runtime</th>\n",
              "      <th>Age Rating</th>\n",
              "      <th>Country origin</th>\n",
              "      <th>Url</th>\n",
              "      <th>Streaming Provider</th>\n",
              "      <th>Type</th>\n",
              "    </tr>\n",
              "  </thead>\n",
              "  <tbody>\n",
              "    <tr>\n",
              "      <th>0</th>\n",
              "      <td>Laapataa Ladies</td>\n",
              "      <td>2024</td>\n",
              "      <td>NA</td>\n",
              "      <td>NA</td>\n",
              "      <td>NA</td>\n",
              "      <td>NA</td>\n",
              "      <td>NA</td>\n",
              "      <td>https://www.justwatch.com/in/movie/laapataa-la...</td>\n",
              "      <td>NA</td>\n",
              "      <td>Movie</td>\n",
              "    </tr>\n",
              "    <tr>\n",
              "      <th>1</th>\n",
              "      <td>Article 370</td>\n",
              "      <td>2024</td>\n",
              "      <td>NA</td>\n",
              "      <td>NA</td>\n",
              "      <td>2h 38min</td>\n",
              "      <td>NA</td>\n",
              "      <td>NA</td>\n",
              "      <td>https://www.justwatch.com/in/movie/article-370</td>\n",
              "      <td>NA</td>\n",
              "      <td>Movie</td>\n",
              "    </tr>\n",
              "    <tr>\n",
              "      <th>2</th>\n",
              "      <td>Manjummel Boys</td>\n",
              "      <td>2024</td>\n",
              "      <td>NA</td>\n",
              "      <td>NA</td>\n",
              "      <td>NA</td>\n",
              "      <td>NA</td>\n",
              "      <td>NA</td>\n",
              "      <td>https://www.justwatch.com/in/movie/manjummel-boys</td>\n",
              "      <td>NA</td>\n",
              "      <td>Movie</td>\n",
              "    </tr>\n",
              "    <tr>\n",
              "      <th>3</th>\n",
              "      <td>Family Star</td>\n",
              "      <td>2024</td>\n",
              "      <td>NA</td>\n",
              "      <td>NA</td>\n",
              "      <td>NA</td>\n",
              "      <td>NA</td>\n",
              "      <td>NA</td>\n",
              "      <td>https://www.justwatch.com/in/movie/family-star</td>\n",
              "      <td>NA</td>\n",
              "      <td>Movie</td>\n",
              "    </tr>\n",
              "    <tr>\n",
              "      <th>4</th>\n",
              "      <td>Dune: Part Two</td>\n",
              "      <td>2024</td>\n",
              "      <td>NA</td>\n",
              "      <td>NA</td>\n",
              "      <td>NA</td>\n",
              "      <td>NA</td>\n",
              "      <td>NA</td>\n",
              "      <td>https://www.justwatch.com/in/movie/dune-part-two</td>\n",
              "      <td>NA</td>\n",
              "      <td>Movie</td>\n",
              "    </tr>\n",
              "    <tr>\n",
              "      <th>...</th>\n",
              "      <td>...</td>\n",
              "      <td>...</td>\n",
              "      <td>...</td>\n",
              "      <td>...</td>\n",
              "      <td>...</td>\n",
              "      <td>...</td>\n",
              "      <td>...</td>\n",
              "      <td>...</td>\n",
              "      <td>...</td>\n",
              "      <td>...</td>\n",
              "    </tr>\n",
              "    <tr>\n",
              "      <th>95</th>\n",
              "      <td>Interstellar</td>\n",
              "      <td>2023</td>\n",
              "      <td>NA</td>\n",
              "      <td>NA</td>\n",
              "      <td>2h 49min</td>\n",
              "      <td>NA</td>\n",
              "      <td>NA</td>\n",
              "      <td>https://www.justwatch.com/in/movie/interstellar</td>\n",
              "      <td>NA</td>\n",
              "      <td>Movie</td>\n",
              "    </tr>\n",
              "    <tr>\n",
              "      <th>96</th>\n",
              "      <td>The Wolf of Wall Street</td>\n",
              "      <td>2023</td>\n",
              "      <td>NA</td>\n",
              "      <td>NA</td>\n",
              "      <td>NA</td>\n",
              "      <td>NA</td>\n",
              "      <td>NA</td>\n",
              "      <td>https://www.justwatch.com/in/movie/the-wolf-of...</td>\n",
              "      <td>NA</td>\n",
              "      <td>Movie</td>\n",
              "    </tr>\n",
              "    <tr>\n",
              "      <th>97</th>\n",
              "      <td>Dawn of the Planet of the Apes</td>\n",
              "      <td>2023</td>\n",
              "      <td>NA</td>\n",
              "      <td>NA</td>\n",
              "      <td>NA</td>\n",
              "      <td>NA</td>\n",
              "      <td>NA</td>\n",
              "      <td>https://www.justwatch.com/in/movie/dawn-of-the...</td>\n",
              "      <td>NA</td>\n",
              "      <td>Movie</td>\n",
              "    </tr>\n",
              "    <tr>\n",
              "      <th>98</th>\n",
              "      <td>Kingdom of Heaven</td>\n",
              "      <td>2005</td>\n",
              "      <td>NA</td>\n",
              "      <td>NA</td>\n",
              "      <td>NA</td>\n",
              "      <td>NA</td>\n",
              "      <td>NA</td>\n",
              "      <td>https://www.justwatch.com/in/movie/kingdom-of-...</td>\n",
              "      <td>NA</td>\n",
              "      <td>Movie</td>\n",
              "    </tr>\n",
              "    <tr>\n",
              "      <th>99</th>\n",
              "      <td>Kaagaz 2</td>\n",
              "      <td>2005</td>\n",
              "      <td>NA</td>\n",
              "      <td>NA</td>\n",
              "      <td>NA</td>\n",
              "      <td>NA</td>\n",
              "      <td>NA</td>\n",
              "      <td>https://www.justwatch.com/in/movie/kaagaz-2</td>\n",
              "      <td>NA</td>\n",
              "      <td>Movie</td>\n",
              "    </tr>\n",
              "  </tbody>\n",
              "</table>\n",
              "<p>100 rows × 10 columns</p>\n",
              "</div>\n",
              "    <div class=\"colab-df-buttons\">\n",
              "\n",
              "  <div class=\"colab-df-container\">\n",
              "    <button class=\"colab-df-convert\" onclick=\"convertToInteractive('df-b19d6d0a-79a0-4ebd-b32a-e113933f737a')\"\n",
              "            title=\"Convert this dataframe to an interactive table.\"\n",
              "            style=\"display:none;\">\n",
              "\n",
              "  <svg xmlns=\"http://www.w3.org/2000/svg\" height=\"24px\" viewBox=\"0 -960 960 960\">\n",
              "    <path d=\"M120-120v-720h720v720H120Zm60-500h600v-160H180v160Zm220 220h160v-160H400v160Zm0 220h160v-160H400v160ZM180-400h160v-160H180v160Zm440 0h160v-160H620v160ZM180-180h160v-160H180v160Zm440 0h160v-160H620v160Z\"/>\n",
              "  </svg>\n",
              "    </button>\n",
              "\n",
              "  <style>\n",
              "    .colab-df-container {\n",
              "      display:flex;\n",
              "      gap: 12px;\n",
              "    }\n",
              "\n",
              "    .colab-df-convert {\n",
              "      background-color: #E8F0FE;\n",
              "      border: none;\n",
              "      border-radius: 50%;\n",
              "      cursor: pointer;\n",
              "      display: none;\n",
              "      fill: #1967D2;\n",
              "      height: 32px;\n",
              "      padding: 0 0 0 0;\n",
              "      width: 32px;\n",
              "    }\n",
              "\n",
              "    .colab-df-convert:hover {\n",
              "      background-color: #E2EBFA;\n",
              "      box-shadow: 0px 1px 2px rgba(60, 64, 67, 0.3), 0px 1px 3px 1px rgba(60, 64, 67, 0.15);\n",
              "      fill: #174EA6;\n",
              "    }\n",
              "\n",
              "    .colab-df-buttons div {\n",
              "      margin-bottom: 4px;\n",
              "    }\n",
              "\n",
              "    [theme=dark] .colab-df-convert {\n",
              "      background-color: #3B4455;\n",
              "      fill: #D2E3FC;\n",
              "    }\n",
              "\n",
              "    [theme=dark] .colab-df-convert:hover {\n",
              "      background-color: #434B5C;\n",
              "      box-shadow: 0px 1px 3px 1px rgba(0, 0, 0, 0.15);\n",
              "      filter: drop-shadow(0px 1px 2px rgba(0, 0, 0, 0.3));\n",
              "      fill: #FFFFFF;\n",
              "    }\n",
              "  </style>\n",
              "\n",
              "    <script>\n",
              "      const buttonEl =\n",
              "        document.querySelector('#df-b19d6d0a-79a0-4ebd-b32a-e113933f737a button.colab-df-convert');\n",
              "      buttonEl.style.display =\n",
              "        google.colab.kernel.accessAllowed ? 'block' : 'none';\n",
              "\n",
              "      async function convertToInteractive(key) {\n",
              "        const element = document.querySelector('#df-b19d6d0a-79a0-4ebd-b32a-e113933f737a');\n",
              "        const dataTable =\n",
              "          await google.colab.kernel.invokeFunction('convertToInteractive',\n",
              "                                                    [key], {});\n",
              "        if (!dataTable) return;\n",
              "\n",
              "        const docLinkHtml = 'Like what you see? Visit the ' +\n",
              "          '<a target=\"_blank\" href=https://colab.research.google.com/notebooks/data_table.ipynb>data table notebook</a>'\n",
              "          + ' to learn more about interactive tables.';\n",
              "        element.innerHTML = '';\n",
              "        dataTable['output_type'] = 'display_data';\n",
              "        await google.colab.output.renderOutput(dataTable, element);\n",
              "        const docLink = document.createElement('div');\n",
              "        docLink.innerHTML = docLinkHtml;\n",
              "        element.appendChild(docLink);\n",
              "      }\n",
              "    </script>\n",
              "  </div>\n",
              "\n",
              "\n",
              "<div id=\"df-9ad65364-0e48-4b5f-b044-e79607fda6fc\">\n",
              "  <button class=\"colab-df-quickchart\" onclick=\"quickchart('df-9ad65364-0e48-4b5f-b044-e79607fda6fc')\"\n",
              "            title=\"Suggest charts\"\n",
              "            style=\"display:none;\">\n",
              "\n",
              "<svg xmlns=\"http://www.w3.org/2000/svg\" height=\"24px\"viewBox=\"0 0 24 24\"\n",
              "     width=\"24px\">\n",
              "    <g>\n",
              "        <path d=\"M19 3H5c-1.1 0-2 .9-2 2v14c0 1.1.9 2 2 2h14c1.1 0 2-.9 2-2V5c0-1.1-.9-2-2-2zM9 17H7v-7h2v7zm4 0h-2V7h2v10zm4 0h-2v-4h2v4z\"/>\n",
              "    </g>\n",
              "</svg>\n",
              "  </button>\n",
              "\n",
              "<style>\n",
              "  .colab-df-quickchart {\n",
              "      --bg-color: #E8F0FE;\n",
              "      --fill-color: #1967D2;\n",
              "      --hover-bg-color: #E2EBFA;\n",
              "      --hover-fill-color: #174EA6;\n",
              "      --disabled-fill-color: #AAA;\n",
              "      --disabled-bg-color: #DDD;\n",
              "  }\n",
              "\n",
              "  [theme=dark] .colab-df-quickchart {\n",
              "      --bg-color: #3B4455;\n",
              "      --fill-color: #D2E3FC;\n",
              "      --hover-bg-color: #434B5C;\n",
              "      --hover-fill-color: #FFFFFF;\n",
              "      --disabled-bg-color: #3B4455;\n",
              "      --disabled-fill-color: #666;\n",
              "  }\n",
              "\n",
              "  .colab-df-quickchart {\n",
              "    background-color: var(--bg-color);\n",
              "    border: none;\n",
              "    border-radius: 50%;\n",
              "    cursor: pointer;\n",
              "    display: none;\n",
              "    fill: var(--fill-color);\n",
              "    height: 32px;\n",
              "    padding: 0;\n",
              "    width: 32px;\n",
              "  }\n",
              "\n",
              "  .colab-df-quickchart:hover {\n",
              "    background-color: var(--hover-bg-color);\n",
              "    box-shadow: 0 1px 2px rgba(60, 64, 67, 0.3), 0 1px 3px 1px rgba(60, 64, 67, 0.15);\n",
              "    fill: var(--button-hover-fill-color);\n",
              "  }\n",
              "\n",
              "  .colab-df-quickchart-complete:disabled,\n",
              "  .colab-df-quickchart-complete:disabled:hover {\n",
              "    background-color: var(--disabled-bg-color);\n",
              "    fill: var(--disabled-fill-color);\n",
              "    box-shadow: none;\n",
              "  }\n",
              "\n",
              "  .colab-df-spinner {\n",
              "    border: 2px solid var(--fill-color);\n",
              "    border-color: transparent;\n",
              "    border-bottom-color: var(--fill-color);\n",
              "    animation:\n",
              "      spin 1s steps(1) infinite;\n",
              "  }\n",
              "\n",
              "  @keyframes spin {\n",
              "    0% {\n",
              "      border-color: transparent;\n",
              "      border-bottom-color: var(--fill-color);\n",
              "      border-left-color: var(--fill-color);\n",
              "    }\n",
              "    20% {\n",
              "      border-color: transparent;\n",
              "      border-left-color: var(--fill-color);\n",
              "      border-top-color: var(--fill-color);\n",
              "    }\n",
              "    30% {\n",
              "      border-color: transparent;\n",
              "      border-left-color: var(--fill-color);\n",
              "      border-top-color: var(--fill-color);\n",
              "      border-right-color: var(--fill-color);\n",
              "    }\n",
              "    40% {\n",
              "      border-color: transparent;\n",
              "      border-right-color: var(--fill-color);\n",
              "      border-top-color: var(--fill-color);\n",
              "    }\n",
              "    60% {\n",
              "      border-color: transparent;\n",
              "      border-right-color: var(--fill-color);\n",
              "    }\n",
              "    80% {\n",
              "      border-color: transparent;\n",
              "      border-right-color: var(--fill-color);\n",
              "      border-bottom-color: var(--fill-color);\n",
              "    }\n",
              "    90% {\n",
              "      border-color: transparent;\n",
              "      border-bottom-color: var(--fill-color);\n",
              "    }\n",
              "  }\n",
              "</style>\n",
              "\n",
              "  <script>\n",
              "    async function quickchart(key) {\n",
              "      const quickchartButtonEl =\n",
              "        document.querySelector('#' + key + ' button');\n",
              "      quickchartButtonEl.disabled = true;  // To prevent multiple clicks.\n",
              "      quickchartButtonEl.classList.add('colab-df-spinner');\n",
              "      try {\n",
              "        const charts = await google.colab.kernel.invokeFunction(\n",
              "            'suggestCharts', [key], {});\n",
              "      } catch (error) {\n",
              "        console.error('Error during call to suggestCharts:', error);\n",
              "      }\n",
              "      quickchartButtonEl.classList.remove('colab-df-spinner');\n",
              "      quickchartButtonEl.classList.add('colab-df-quickchart-complete');\n",
              "    }\n",
              "    (() => {\n",
              "      let quickchartButtonEl =\n",
              "        document.querySelector('#df-9ad65364-0e48-4b5f-b044-e79607fda6fc button');\n",
              "      quickchartButtonEl.style.display =\n",
              "        google.colab.kernel.accessAllowed ? 'block' : 'none';\n",
              "    })();\n",
              "  </script>\n",
              "</div>\n",
              "\n",
              "  <div id=\"id_7c214dc1-f888-4fb8-a11f-181f2fe79d1c\">\n",
              "    <style>\n",
              "      .colab-df-generate {\n",
              "        background-color: #E8F0FE;\n",
              "        border: none;\n",
              "        border-radius: 50%;\n",
              "        cursor: pointer;\n",
              "        display: none;\n",
              "        fill: #1967D2;\n",
              "        height: 32px;\n",
              "        padding: 0 0 0 0;\n",
              "        width: 32px;\n",
              "      }\n",
              "\n",
              "      .colab-df-generate:hover {\n",
              "        background-color: #E2EBFA;\n",
              "        box-shadow: 0px 1px 2px rgba(60, 64, 67, 0.3), 0px 1px 3px 1px rgba(60, 64, 67, 0.15);\n",
              "        fill: #174EA6;\n",
              "      }\n",
              "\n",
              "      [theme=dark] .colab-df-generate {\n",
              "        background-color: #3B4455;\n",
              "        fill: #D2E3FC;\n",
              "      }\n",
              "\n",
              "      [theme=dark] .colab-df-generate:hover {\n",
              "        background-color: #434B5C;\n",
              "        box-shadow: 0px 1px 3px 1px rgba(0, 0, 0, 0.15);\n",
              "        filter: drop-shadow(0px 1px 2px rgba(0, 0, 0, 0.3));\n",
              "        fill: #FFFFFF;\n",
              "      }\n",
              "    </style>\n",
              "    <button class=\"colab-df-generate\" onclick=\"generateWithVariable('Movies_df')\"\n",
              "            title=\"Generate code using this dataframe.\"\n",
              "            style=\"display:none;\">\n",
              "\n",
              "  <svg xmlns=\"http://www.w3.org/2000/svg\" height=\"24px\"viewBox=\"0 0 24 24\"\n",
              "       width=\"24px\">\n",
              "    <path d=\"M7,19H8.4L18.45,9,17,7.55,7,17.6ZM5,21V16.75L18.45,3.32a2,2,0,0,1,2.83,0l1.4,1.43a1.91,1.91,0,0,1,.58,1.4,1.91,1.91,0,0,1-.58,1.4L9.25,21ZM18.45,9,17,7.55Zm-12,3A5.31,5.31,0,0,0,4.9,8.1,5.31,5.31,0,0,0,1,6.5,5.31,5.31,0,0,0,4.9,4.9,5.31,5.31,0,0,0,6.5,1,5.31,5.31,0,0,0,8.1,4.9,5.31,5.31,0,0,0,12,6.5,5.46,5.46,0,0,0,6.5,12Z\"/>\n",
              "  </svg>\n",
              "    </button>\n",
              "    <script>\n",
              "      (() => {\n",
              "      const buttonEl =\n",
              "        document.querySelector('#id_7c214dc1-f888-4fb8-a11f-181f2fe79d1c button.colab-df-generate');\n",
              "      buttonEl.style.display =\n",
              "        google.colab.kernel.accessAllowed ? 'block' : 'none';\n",
              "\n",
              "      buttonEl.onclick = () => {\n",
              "        google.colab.notebook.generateWithVariable('Movies_df');\n",
              "      }\n",
              "      })();\n",
              "    </script>\n",
              "  </div>\n",
              "\n",
              "    </div>\n",
              "  </div>\n"
            ],
            "application/vnd.google.colaboratory.intrinsic+json": {
              "type": "dataframe",
              "variable_name": "Movies_df",
              "summary": "{\n  \"name\": \"Movies_df\",\n  \"rows\": 100,\n  \"fields\": [\n    {\n      \"column\": \"Title\",\n      \"properties\": {\n        \"dtype\": \"string\",\n        \"num_unique_values\": 100,\n        \"samples\": [\n          \"Joker\",\n          \"Maidaan\",\n          \"Siren\"\n        ],\n        \"semantic_type\": \"\",\n        \"description\": \"\"\n      }\n    },\n    {\n      \"column\": \"Release Year\",\n      \"properties\": {\n        \"dtype\": \"object\",\n        \"num_unique_values\": 8,\n        \"samples\": [\n          \"2023\",\n          \"2020\",\n          \"2024\"\n        ],\n        \"semantic_type\": \"\",\n        \"description\": \"\"\n      }\n    },\n    {\n      \"column\": \"Genre\",\n      \"properties\": {\n        \"dtype\": \"category\",\n        \"num_unique_values\": 7,\n        \"samples\": [\n          \"NA\",\n          \"Science-Fiction, Fantasy, Action & Adventure, Comedy\",\n          \"Mystery & Thriller, Action & Adventure, Drama\"\n        ],\n        \"semantic_type\": \"\",\n        \"description\": \"\"\n      }\n    },\n    {\n      \"column\": \"Imdb Rating\",\n      \"properties\": {\n        \"dtype\": \"category\",\n        \"num_unique_values\": 7,\n        \"samples\": [\n          \"NA\",\n          \"6.3\",\n          \"6.8\"\n        ],\n        \"semantic_type\": \"\",\n        \"description\": \"\"\n      }\n    },\n    {\n      \"column\": \"Runtime\",\n      \"properties\": {\n        \"dtype\": \"category\",\n        \"num_unique_values\": 8,\n        \"samples\": [\n          \"2h 38min\",\n          \"1h 47min\",\n          \"NA\"\n        ],\n        \"semantic_type\": \"\",\n        \"description\": \"\"\n      }\n    },\n    {\n      \"column\": \"Age Rating\",\n      \"properties\": {\n        \"dtype\": \"category\",\n        \"num_unique_values\": 4,\n        \"samples\": [\n          \"UA\",\n          \"U\",\n          \"NA\"\n        ],\n        \"semantic_type\": \"\",\n        \"description\": \"\"\n      }\n    },\n    {\n      \"column\": \"Country origin\",\n      \"properties\": {\n        \"dtype\": \"category\",\n        \"num_unique_values\": 4,\n        \"samples\": [\n          \"India\",\n          \"Finland, Norway, Sweden, Belgium\",\n          \"NA\"\n        ],\n        \"semantic_type\": \"\",\n        \"description\": \"\"\n      }\n    },\n    {\n      \"column\": \"Url\",\n      \"properties\": {\n        \"dtype\": \"string\",\n        \"num_unique_values\": 100,\n        \"samples\": [\n          \"https://www.justwatch.com/in/movie/joker-2019\",\n          \"https://www.justwatch.com/in/movie/maidaan\",\n          \"https://www.justwatch.com/in/movie/siren-2024\"\n        ],\n        \"semantic_type\": \"\",\n        \"description\": \"\"\n      }\n    },\n    {\n      \"column\": \"Streaming Provider\",\n      \"properties\": {\n        \"dtype\": \"category\",\n        \"num_unique_values\": 6,\n        \"samples\": [\n          \"NA\",\n          \"Hotstar,aha\",\n          \"Amazon Prime Video\"\n        ],\n        \"semantic_type\": \"\",\n        \"description\": \"\"\n      }\n    },\n    {\n      \"column\": \"Type\",\n      \"properties\": {\n        \"dtype\": \"category\",\n        \"num_unique_values\": 1,\n        \"samples\": [\n          \"Movie\"\n        ],\n        \"semantic_type\": \"\",\n        \"description\": \"\"\n      }\n    }\n  ]\n}"
            }
          },
          "metadata": {},
          "execution_count": 23
        }
      ]
    },
    {
      "cell_type": "code",
      "source": [
        "##Changing NA value in  Imdb rating with NaN(Not a number)\n",
        "Movies_df['Imdb Rating'] = Movies_df['Imdb Rating'].replace(\"NA\",float(\"NaN\"))"
      ],
      "metadata": {
        "id": "xxFsDVQ-2ABJ"
      },
      "execution_count": 24,
      "outputs": []
    },
    {
      "cell_type": "markdown",
      "source": [
        "## **Scraping TV  Show Data**"
      ],
      "metadata": {
        "id": "LYQ5acWzJRZr"
      }
    },
    {
      "cell_type": "code",
      "source": [
        "# Specifying the URL from which tv show related data will be fetched\n",
        "tv_url='https://www.justwatch.com/in/tv-shows?release_year_from=2000'\n",
        "# Sending an HTTP GET request to the URL\n",
        "page=requests.get(tv_url)\n",
        "# Parsing the HTML content using BeautifulSoup with the 'html.parser'\n",
        "soup=BeautifulSoup(page.text,'html.parser')\n",
        "# Printing the prettified HTML content\n",
        "#print(soup.prettify())"
      ],
      "metadata": {
        "id": "Xic8FWfwI6AT"
      },
      "execution_count": 25,
      "outputs": []
    },
    {
      "cell_type": "markdown",
      "source": [
        "## **Fetching Tv shows Url details**"
      ],
      "metadata": {
        "id": "ev-VUSNvJ-fJ"
      }
    },
    {
      "cell_type": "code",
      "source": [
        "# Write Your Code here\n",
        "Tv_shows_url  =[]\n",
        "Tv_shows_link = soup.find_all(\"a\",class_=\"title-list-grid__item--link\")\n",
        "for link in Tv_shows_link:\n",
        "    tv_shows_url = \"https://www.justwatch.com\"+link[\"href\"]\n",
        "    Tv_shows_url.append(tv_shows_url)\n",
        "\n",
        "print(Tv_shows_url)"
      ],
      "metadata": {
        "id": "eMlwT4I-8gGh",
        "colab": {
          "base_uri": "https://localhost:8080/"
        },
        "outputId": "d269fa73-b196-4d01-cfdb-5247c3bc5c6f"
      },
      "execution_count": 26,
      "outputs": [
        {
          "output_type": "stream",
          "name": "stdout",
          "text": [
            "['https://www.justwatch.com/in/tv-show/shogun-2024', 'https://www.justwatch.com/in/tv-show/heeramandi', 'https://www.justwatch.com/in/tv-show/panchayat', 'https://www.justwatch.com/in/tv-show/fallout', 'https://www.justwatch.com/in/tv-show/mirzapur', 'https://www.justwatch.com/in/tv-show/game-of-thrones', 'https://www.justwatch.com/in/tv-show/3-body-problem', 'https://www.justwatch.com/in/tv-show/dead-boy-detectives', 'https://www.justwatch.com/in/tv-show/baby-reindeer', 'https://www.justwatch.com/in/tv-show/apharan', 'https://www.justwatch.com/in/tv-show/young-sheldon', 'https://www.justwatch.com/in/tv-show/attack-on-titan', 'https://www.justwatch.com/in/tv-show/the-walking-dead', 'https://www.justwatch.com/in/tv-show/inspector-rishi', 'https://www.justwatch.com/in/tv-show/sunflower-2021', 'https://www.justwatch.com/in/tv-show/aashram', 'https://www.justwatch.com/in/tv-show/lucifer', 'https://www.justwatch.com/in/tv-show/a-gentleman-in-moscow', 'https://www.justwatch.com/in/tv-show/farzi', 'https://www.justwatch.com/in/tv-show/mastram', 'https://www.justwatch.com/in/tv-show/untitled-kapil-sharma-netflix-project', 'https://www.justwatch.com/in/tv-show/solo-leveling-2024', 'https://www.justwatch.com/in/tv-show/dil-dosti-dilemma', 'https://www.justwatch.com/in/tv-show/ripley', 'https://www.justwatch.com/in/tv-show/thank-you-next', 'https://www.justwatch.com/in/tv-show/the-gentlemen', 'https://www.justwatch.com/in/tv-show/murder-in-mahim', 'https://www.justwatch.com/in/tv-show/queen-of-tears', 'https://www.justwatch.com/in/tv-show/ranneeti-balakot-and-beyond', 'https://www.justwatch.com/in/tv-show/we-were-the-lucky-ones', 'https://www.justwatch.com/in/tv-show/broken-but-beautiful', 'https://www.justwatch.com/in/tv-show/the-family-man', 'https://www.justwatch.com/in/tv-show/gandii-baat', 'https://www.justwatch.com/in/tv-show/the-rookie', 'https://www.justwatch.com/in/tv-show/dark-matter-2024', 'https://www.justwatch.com/in/tv-show/asur', 'https://www.justwatch.com/in/tv-show/jujutsu-kaisen', 'https://www.justwatch.com/in/tv-show/house-of-the-dragon', 'https://www.justwatch.com/in/tv-show/true-detective', 'https://www.justwatch.com/in/tv-show/goodbye-earth', 'https://www.justwatch.com/in/tv-show/maamla-legal-hai', 'https://www.justwatch.com/in/tv-show/the-last-of-us', 'https://www.justwatch.com/in/tv-show/euphoria', 'https://www.justwatch.com/in/tv-show/modern-family', 'https://www.justwatch.com/in/tv-show/dehati-ladke', 'https://www.justwatch.com/in/tv-show/jack-reacher', 'https://www.justwatch.com/in/tv-show/maharani-2021', 'https://www.justwatch.com/in/tv-show/house', 'https://www.justwatch.com/in/tv-show/paperhouse', 'https://www.justwatch.com/in/tv-show/stranger-things', 'https://www.justwatch.com/in/tv-show/peaky-blinders', 'https://www.justwatch.com/in/tv-show/naruto-shippuden', 'https://www.justwatch.com/in/tv-show/monk', 'https://www.justwatch.com/in/tv-show/demon-slayer-kimetsu-no-yaiba', 'https://www.justwatch.com/in/tv-show/brigands-the-quest-for-gold', 'https://www.justwatch.com/in/tv-show/the-good-doctor', 'https://www.justwatch.com/in/tv-show/the-flash', 'https://www.justwatch.com/in/tv-show/naruto', 'https://www.justwatch.com/in/tv-show/mtv-splitsvilla', 'https://www.justwatch.com/in/tv-show/damaged', 'https://www.justwatch.com/in/tv-show/invincible', 'https://www.justwatch.com/in/tv-show/how-i-met-your-mother', 'https://www.justwatch.com/in/tv-show/scam-1992', 'https://www.justwatch.com/in/tv-show/dark-desire', 'https://www.justwatch.com/in/tv-show/undekhi', 'https://www.justwatch.com/in/tv-show/breaking-bad', 'https://www.justwatch.com/in/tv-show/yellowstone', 'https://www.justwatch.com/in/tv-show/one-punch-man', 'https://www.justwatch.com/in/tv-show/maxton-hall-the-world-between-us', 'https://www.justwatch.com/in/tv-show/gullak', 'https://www.justwatch.com/in/tv-show/lootere', 'https://www.justwatch.com/in/tv-show/greys-anatomy', 'https://www.justwatch.com/in/tv-show/dr-arora', 'https://www.justwatch.com/in/tv-show/loki', 'https://www.justwatch.com/in/tv-show/them', 'https://www.justwatch.com/in/tv-show/the-atypical-family', 'https://www.justwatch.com/in/tv-show/death-note', 'https://www.justwatch.com/in/tv-show/the-boys', 'https://www.justwatch.com/in/tv-show/playground', 'https://www.justwatch.com/in/tv-show/college-romance', 'https://www.justwatch.com/in/tv-show/maigret', 'https://www.justwatch.com/in/tv-show/bodkin', 'https://www.justwatch.com/in/tv-show/the-railway-men-the-untold-story-of-bhopal-1984', 'https://www.justwatch.com/in/tv-show/doctor-who', 'https://www.justwatch.com/in/tv-show/sugar', 'https://www.justwatch.com/in/tv-show/9-1-1', 'https://www.justwatch.com/in/tv-show/taaza-khabar', 'https://www.justwatch.com/in/tv-show/x-men-97', 'https://www.justwatch.com/in/tv-show/under-the-dome', 'https://www.justwatch.com/in/tv-show/paatal-lok', 'https://www.justwatch.com/in/tv-show/better-call-saul', 'https://www.justwatch.com/in/tv-show/spartacus', 'https://www.justwatch.com/in/tv-show/wednesday', 'https://www.justwatch.com/in/tv-show/paurashpur', 'https://www.justwatch.com/in/tv-show/adrishyam-the-invisible-heroes', 'https://www.justwatch.com/in/tv-show/the-vampire-diaries', 'https://www.justwatch.com/in/tv-show/the-goat', 'https://www.justwatch.com/in/tv-show/halo', 'https://www.justwatch.com/in/tv-show/kaiju-no-8', 'https://www.justwatch.com/in/tv-show/you']\n"
          ]
        }
      ]
    },
    {
      "cell_type": "code",
      "source": [
        "count = len(Tv_shows_url)\n",
        "count"
      ],
      "metadata": {
        "colab": {
          "base_uri": "https://localhost:8080/"
        },
        "id": "0hgCThOT2UEC",
        "outputId": "21234f85-6a11-4e6c-8c94-862b6fc3ef89"
      },
      "execution_count": 27,
      "outputs": [
        {
          "output_type": "execute_result",
          "data": {
            "text/plain": [
              "100"
            ]
          },
          "metadata": {},
          "execution_count": 27
        }
      ]
    },
    {
      "cell_type": "markdown",
      "source": [
        "## **Fetching Tv Show Title details**"
      ],
      "metadata": {
        "id": "1vZLzmqcKDPX"
      }
    },
    {
      "cell_type": "code",
      "source": [
        "Tv_shows_Title =[]\n",
        "\n",
        "for url in Tv_shows_url:\n",
        "  response = requests.get(url)\n",
        "  soup = BeautifulSoup(response.text,\"html.parser\")\n",
        "  try:\n",
        "    title = soup.find(\"div\",class_=\"title-block\")\n",
        "    title1 = title.find(\"h1\").text\n",
        "    Tv_shows_Title.append(title1)\n",
        "  except AttributeError as err:\n",
        "    Tv_shows_Title.append('NA')\n",
        "\n",
        "#print(Tv_shows_Title)"
      ],
      "metadata": {
        "id": "a8Y6UF6-JLvO"
      },
      "execution_count": 65,
      "outputs": []
    },
    {
      "cell_type": "code",
      "source": [
        "count = len(Tv_shows_Title)\n",
        "count"
      ],
      "metadata": {
        "colab": {
          "base_uri": "https://localhost:8080/"
        },
        "id": "XtzwMNUY2h1u",
        "outputId": "8cd8a5af-4616-45d4-d6de-9e70fd0f06d4"
      },
      "execution_count": 29,
      "outputs": [
        {
          "output_type": "execute_result",
          "data": {
            "text/plain": [
              "100"
            ]
          },
          "metadata": {},
          "execution_count": 29
        }
      ]
    },
    {
      "cell_type": "markdown",
      "source": [
        "## **Fetching Release Year**"
      ],
      "metadata": {
        "id": "mEIt9j6RKa9B"
      }
    },
    {
      "cell_type": "code",
      "source": [
        "# Write Your Code here\n",
        "Release_year =[]\n",
        "for url in Tv_shows_url:\n",
        "  response = requests.get(url)\n",
        "  soup = BeautifulSoup(response.text,\"html.parser\")\n",
        "  try:\n",
        "    year = soup.find(\"div\",class_=\"title-block\")\n",
        "    year1 = year.find(\"span\", class_=\"text-muted\").text.strip(\"( )\")\n",
        "    Release_year.append(year1)\n",
        "  except AttributeError as err:\n",
        "    Release_year.append('NA')\n",
        "\n",
        "#print(Release_year)"
      ],
      "metadata": {
        "id": "r72fyiF8JozW"
      },
      "execution_count": 64,
      "outputs": []
    },
    {
      "cell_type": "code",
      "source": [
        "count = len(Release_year)\n",
        "count"
      ],
      "metadata": {
        "colab": {
          "base_uri": "https://localhost:8080/"
        },
        "id": "prnb3frZ3oIM",
        "outputId": "ca9bcf56-a7eb-4edb-8c88-9f4b1f995440"
      },
      "execution_count": 31,
      "outputs": [
        {
          "output_type": "execute_result",
          "data": {
            "text/plain": [
              "100"
            ]
          },
          "metadata": {},
          "execution_count": 31
        }
      ]
    },
    {
      "cell_type": "markdown",
      "source": [
        "## **Fetching TV Show Genre Details**"
      ],
      "metadata": {
        "id": "P96pGO9kRCLv"
      }
    },
    {
      "cell_type": "code",
      "source": [
        "# Write Your Code here\n",
        "Genre =[]\n",
        "for url in Tv_shows_url:\n",
        "  response = requests.get(url)\n",
        "  soup = BeautifulSoup(response.text,\"html.parser\")\n",
        "  try:\n",
        "    Genre_indi1 = soup.find('h3', class_='detail-infos__subheading', string='Genres').find_next_sibling('div', class_='detail-infos__value').text.strip()\n",
        "  except:\n",
        "    Genre_indi1 ='NA'\n",
        "\n",
        "  Genre.append(Genre_indi1)\n",
        "\n",
        "#print(Genre)"
      ],
      "metadata": {
        "id": "Jay8a9xgT43-"
      },
      "execution_count": 32,
      "outputs": []
    },
    {
      "cell_type": "code",
      "source": [
        "count = len(Genre)\n",
        "count"
      ],
      "metadata": {
        "colab": {
          "base_uri": "https://localhost:8080/"
        },
        "id": "E91DcbKe46Az",
        "outputId": "0d1f360c-6e1c-43c3-e9d3-3ccb1f04fbdc"
      },
      "execution_count": 33,
      "outputs": [
        {
          "output_type": "execute_result",
          "data": {
            "text/plain": [
              "100"
            ]
          },
          "metadata": {},
          "execution_count": 33
        }
      ]
    },
    {
      "cell_type": "markdown",
      "source": [
        "## **Fetching IMDB Rating Details**"
      ],
      "metadata": {
        "id": "hk3eSdDAXQv8"
      }
    },
    {
      "cell_type": "code",
      "source": [
        "Imdb_Rating =[]\n",
        "\n",
        "for url in Tv_shows_url:\n",
        "  response = requests.get(url)\n",
        "  soup = BeautifulSoup(response.text,\"html.parser\")\n",
        "\n",
        "  try:\n",
        "    Imdb = soup.find_all(\"div\",class_=\"jw-scoring-listing__rating\")[1].span\n",
        "    Imdb1= Imdb.text[1:4]\n",
        "  except Exception as e:\n",
        "    # print(err)\n",
        "    Imdb1 = \"NA\"\n",
        "  Imdb_Rating.append(Imdb1)\n",
        "\n",
        "#print(Imdb_Rating)\n"
      ],
      "metadata": {
        "id": "phTivKHvHX0n"
      },
      "execution_count": 34,
      "outputs": []
    },
    {
      "cell_type": "code",
      "source": [
        "count = len(Imdb_Rating)\n",
        "count"
      ],
      "metadata": {
        "colab": {
          "base_uri": "https://localhost:8080/"
        },
        "id": "K7aW4AFy5QtS",
        "outputId": "f7f6c89c-4697-4e55-b69c-94e934776e26"
      },
      "execution_count": 35,
      "outputs": [
        {
          "output_type": "execute_result",
          "data": {
            "text/plain": [
              "100"
            ]
          },
          "metadata": {},
          "execution_count": 35
        }
      ]
    },
    {
      "cell_type": "markdown",
      "source": [
        "## **Fetching Age Rating Details**"
      ],
      "metadata": {
        "id": "XZ9nJhmiZB_W"
      }
    },
    {
      "cell_type": "code",
      "source": [
        "# Write Your Code here\n",
        "Age_Rating=[]\n",
        "for url in Tv_shows_url:\n",
        "  response = requests.get(url)\n",
        "  soup = BeautifulSoup(response.text,\"html.parser\")\n",
        "  try:\n",
        "    rating1 = soup.find('h3', class_='detail-infos__subheading', string='Age rating').find_next_sibling('div', class_='detail-infos__value').text.strip()\n",
        "  except:\n",
        "    rating1 ='NA'\n",
        "  Age_Rating.append(rating1)\n",
        "\n",
        "#print(Age_Rating)"
      ],
      "metadata": {
        "id": "wR9Xo8piZA7p"
      },
      "execution_count": 36,
      "outputs": []
    },
    {
      "cell_type": "code",
      "source": [
        "count = len(Age_Rating)\n",
        "count"
      ],
      "metadata": {
        "colab": {
          "base_uri": "https://localhost:8080/"
        },
        "id": "30nSkqXm5pqB",
        "outputId": "c939070b-481e-4361-e92e-33c043d8fe7a"
      },
      "execution_count": 37,
      "outputs": [
        {
          "output_type": "execute_result",
          "data": {
            "text/plain": [
              "100"
            ]
          },
          "metadata": {},
          "execution_count": 37
        }
      ]
    },
    {
      "cell_type": "markdown",
      "source": [
        "## **Fetching Production Country details**"
      ],
      "metadata": {
        "id": "ii49LH4tdNoN"
      }
    },
    {
      "cell_type": "code",
      "source": [
        "# Write Your Code here\n",
        "Country_origin =[]\n",
        "for url in Tv_shows_url:\n",
        "  response = requests.get(url)\n",
        "  soup = BeautifulSoup(response.text,\"html.parser\")\n",
        "  try:\n",
        "    country1 = soup.find('h3', class_='detail-infos__subheading', string=' Production country ').find_next_sibling('div', class_='detail-infos__value').text.strip()\n",
        "  except:\n",
        "    country1 ='NA'\n",
        "  Country_origin.append(country1)\n"
      ],
      "metadata": {
        "id": "xihOeyN8XXDt"
      },
      "execution_count": 38,
      "outputs": []
    },
    {
      "cell_type": "code",
      "source": [
        "count = len(Country_origin)\n",
        "count"
      ],
      "metadata": {
        "colab": {
          "base_uri": "https://localhost:8080/"
        },
        "id": "_fRPNvRv6Fvl",
        "outputId": "6c27de9b-7cae-41df-8534-c2ddb6c5c592"
      },
      "execution_count": 39,
      "outputs": [
        {
          "output_type": "execute_result",
          "data": {
            "text/plain": [
              "100"
            ]
          },
          "metadata": {},
          "execution_count": 39
        }
      ]
    },
    {
      "cell_type": "markdown",
      "source": [
        "## **Fetching Streaming Service details**"
      ],
      "metadata": {
        "id": "mHZwwgiKdlQm"
      }
    },
    {
      "cell_type": "code",
      "source": [
        "# Write Your Code here\n",
        "Streaming_Provider =[]\n",
        "for url in Tv_shows_url:\n",
        "  response = requests.get(url)\n",
        "  try:\n",
        "    soup = BeautifulSoup(response.text,\"html.parser\")\n",
        "    Stream_provider = soup.find(\"div\",class_='buybox-row stream').find_all(\"img\",class_='offer__icon')\n",
        "    alt_values1 = [img['alt'] for img in Stream_provider]\n",
        "    alt_values1 = \",\".join(alt_values1)\n",
        "\n",
        "  except AttributeError as err:\n",
        "    alt_values1 = \"NaN\"\n",
        "  Streaming_Provider.append(alt_values1)\n",
        "\n",
        "#print(Streaming_Provider)"
      ],
      "metadata": {
        "id": "_MBl6Vqadrl9"
      },
      "execution_count": 40,
      "outputs": []
    },
    {
      "cell_type": "code",
      "source": [
        "count = len(Streaming_Provider)\n",
        "count"
      ],
      "metadata": {
        "colab": {
          "base_uri": "https://localhost:8080/"
        },
        "id": "0ubw03_D6fYu",
        "outputId": "46d37e20-420a-4b92-ed22-8ff7956854e7"
      },
      "execution_count": 41,
      "outputs": [
        {
          "output_type": "execute_result",
          "data": {
            "text/plain": [
              "100"
            ]
          },
          "metadata": {},
          "execution_count": 41
        }
      ]
    },
    {
      "cell_type": "markdown",
      "source": [
        "## **Fetching Duration Details**"
      ],
      "metadata": {
        "id": "uUOtDJv9gM4a"
      }
    },
    {
      "cell_type": "code",
      "source": [
        "# Write Your Code here\n",
        "Runtime =[]\n",
        "for url in Tv_shows_url:\n",
        "  response = requests.get(url)\n",
        "  soup = BeautifulSoup(response.text,\"html.parser\")\n",
        "  try:\n",
        "    Runtime_indi1 = soup.find('h3', class_='detail-infos__subheading', string='Runtime').find_next_sibling('div', class_='detail-infos__value').text.strip()\n",
        "  except:\n",
        "    Runtime_indi1 ='NA'\n",
        "\n",
        "  Runtime.append(Runtime_indi1)\n",
        "\n",
        "\n",
        "#print(Runtime)"
      ],
      "metadata": {
        "id": "o4x4YY6AfoL1"
      },
      "execution_count": 42,
      "outputs": []
    },
    {
      "cell_type": "code",
      "source": [
        "count = len(Streaming_Provider)\n",
        "count"
      ],
      "metadata": {
        "colab": {
          "base_uri": "https://localhost:8080/"
        },
        "id": "ANB-dGBM6zCa",
        "outputId": "293fdec1-112b-4bb0-ceb5-e234fc209969"
      },
      "execution_count": 43,
      "outputs": [
        {
          "output_type": "execute_result",
          "data": {
            "text/plain": [
              "100"
            ]
          },
          "metadata": {},
          "execution_count": 43
        }
      ]
    },
    {
      "cell_type": "markdown",
      "source": [
        "## **Creating TV Show DataFrame**"
      ],
      "metadata": {
        "id": "nD4QVPT-nfVR"
      }
    },
    {
      "cell_type": "code",
      "source": [
        "# Write Your Code here\n",
        "dict2 ={\"Title\":Tv_shows_Title,\"Release Year\":Release_year,\"Genre\":Genre,\"Imdb Rating\":Imdb_Rating,\n",
        "        \"Runtime\":Runtime,\"Age Rating\":Age_Rating,\"Country origin\":Country_origin,\n",
        "        \"Url\":Tv_shows_url,\"Streaming Provider\":Streaming_Provider,'Type':'Tv Show'}\n",
        "\n",
        "Tv_Shows_df = pd.DataFrame(dict2)"
      ],
      "metadata": {
        "id": "W3Lnlb-xip2U"
      },
      "execution_count": 44,
      "outputs": []
    },
    {
      "cell_type": "code",
      "source": [
        "##Changing NA value in  Imdb rating with NaN(Not a number)\n",
        "Tv_Shows_df['Imdb Rating'] = Tv_Shows_df['Imdb Rating'].replace(\"NA\",float(\"NaN\"))"
      ],
      "metadata": {
        "id": "UDlJeRCo7OSq"
      },
      "execution_count": 46,
      "outputs": []
    },
    {
      "cell_type": "code",
      "source": [
        "# Concatenating both Movies and TV Shows and creating the Final Data:\n",
        "\n",
        "final_data_df = pd.concat([Movies_df,Tv_Shows_df])"
      ],
      "metadata": {
        "id": "BEjMGymr7Swg"
      },
      "execution_count": 47,
      "outputs": []
    },
    {
      "cell_type": "code",
      "source": [
        "final_data_df"
      ],
      "metadata": {
        "colab": {
          "base_uri": "https://localhost:8080/",
          "height": 423
        },
        "id": "XLeW4c0F7g2K",
        "outputId": "afbf82a4-41fa-4a13-ef23-6ad1bb636c64"
      },
      "execution_count": 48,
      "outputs": [
        {
          "output_type": "execute_result",
          "data": {
            "text/plain": [
              "              Title Release Year Genre Imdb Rating   Runtime Age Rating  \\\n",
              "0   Laapataa Ladies         2024    NA         NaN        NA         NA   \n",
              "1       Article 370         2024    NA         NaN  2h 38min         NA   \n",
              "2    Manjummel Boys         2024    NA         NaN        NA         NA   \n",
              "3       Family Star         2024    NA         NaN        NA         NA   \n",
              "4    Dune: Part Two         2024    NA         NaN        NA         NA   \n",
              "..              ...          ...   ...         ...       ...        ...   \n",
              "95               NA           NA    NA         7.7        NA         NA   \n",
              "96               NA         2024    NA         NaN        NA         NA   \n",
              "97               NA           NA    NA         NaN        NA         NA   \n",
              "98               NA           NA    NA         NaN        NA         NA   \n",
              "99               NA           NA    NA         NaN        NA         NA   \n",
              "\n",
              "   Country origin                                                Url  \\\n",
              "0              NA  https://www.justwatch.com/in/movie/laapataa-la...   \n",
              "1              NA     https://www.justwatch.com/in/movie/article-370   \n",
              "2              NA  https://www.justwatch.com/in/movie/manjummel-boys   \n",
              "3              NA     https://www.justwatch.com/in/movie/family-star   \n",
              "4              NA   https://www.justwatch.com/in/movie/dune-part-two   \n",
              "..            ...                                                ...   \n",
              "95             NA  https://www.justwatch.com/in/tv-show/the-vampi...   \n",
              "96             NA      https://www.justwatch.com/in/tv-show/the-goat   \n",
              "97             NA          https://www.justwatch.com/in/tv-show/halo   \n",
              "98             NA    https://www.justwatch.com/in/tv-show/kaiju-no-8   \n",
              "99             NA           https://www.justwatch.com/in/tv-show/you   \n",
              "\n",
              "   Streaming Provider     Type  \n",
              "0                  NA    Movie  \n",
              "1                  NA    Movie  \n",
              "2                  NA    Movie  \n",
              "3                  NA    Movie  \n",
              "4                  NA    Movie  \n",
              "..                ...      ...  \n",
              "95                NaN  Tv Show  \n",
              "96                NaN  Tv Show  \n",
              "97                NaN  Tv Show  \n",
              "98                NaN  Tv Show  \n",
              "99                NaN  Tv Show  \n",
              "\n",
              "[200 rows x 10 columns]"
            ],
            "text/html": [
              "\n",
              "  <div id=\"df-3678c043-439e-4874-a4bd-52c98dac6e6e\" class=\"colab-df-container\">\n",
              "    <div>\n",
              "<style scoped>\n",
              "    .dataframe tbody tr th:only-of-type {\n",
              "        vertical-align: middle;\n",
              "    }\n",
              "\n",
              "    .dataframe tbody tr th {\n",
              "        vertical-align: top;\n",
              "    }\n",
              "\n",
              "    .dataframe thead th {\n",
              "        text-align: right;\n",
              "    }\n",
              "</style>\n",
              "<table border=\"1\" class=\"dataframe\">\n",
              "  <thead>\n",
              "    <tr style=\"text-align: right;\">\n",
              "      <th></th>\n",
              "      <th>Title</th>\n",
              "      <th>Release Year</th>\n",
              "      <th>Genre</th>\n",
              "      <th>Imdb Rating</th>\n",
              "      <th>Runtime</th>\n",
              "      <th>Age Rating</th>\n",
              "      <th>Country origin</th>\n",
              "      <th>Url</th>\n",
              "      <th>Streaming Provider</th>\n",
              "      <th>Type</th>\n",
              "    </tr>\n",
              "  </thead>\n",
              "  <tbody>\n",
              "    <tr>\n",
              "      <th>0</th>\n",
              "      <td>Laapataa Ladies</td>\n",
              "      <td>2024</td>\n",
              "      <td>NA</td>\n",
              "      <td>NaN</td>\n",
              "      <td>NA</td>\n",
              "      <td>NA</td>\n",
              "      <td>NA</td>\n",
              "      <td>https://www.justwatch.com/in/movie/laapataa-la...</td>\n",
              "      <td>NA</td>\n",
              "      <td>Movie</td>\n",
              "    </tr>\n",
              "    <tr>\n",
              "      <th>1</th>\n",
              "      <td>Article 370</td>\n",
              "      <td>2024</td>\n",
              "      <td>NA</td>\n",
              "      <td>NaN</td>\n",
              "      <td>2h 38min</td>\n",
              "      <td>NA</td>\n",
              "      <td>NA</td>\n",
              "      <td>https://www.justwatch.com/in/movie/article-370</td>\n",
              "      <td>NA</td>\n",
              "      <td>Movie</td>\n",
              "    </tr>\n",
              "    <tr>\n",
              "      <th>2</th>\n",
              "      <td>Manjummel Boys</td>\n",
              "      <td>2024</td>\n",
              "      <td>NA</td>\n",
              "      <td>NaN</td>\n",
              "      <td>NA</td>\n",
              "      <td>NA</td>\n",
              "      <td>NA</td>\n",
              "      <td>https://www.justwatch.com/in/movie/manjummel-boys</td>\n",
              "      <td>NA</td>\n",
              "      <td>Movie</td>\n",
              "    </tr>\n",
              "    <tr>\n",
              "      <th>3</th>\n",
              "      <td>Family Star</td>\n",
              "      <td>2024</td>\n",
              "      <td>NA</td>\n",
              "      <td>NaN</td>\n",
              "      <td>NA</td>\n",
              "      <td>NA</td>\n",
              "      <td>NA</td>\n",
              "      <td>https://www.justwatch.com/in/movie/family-star</td>\n",
              "      <td>NA</td>\n",
              "      <td>Movie</td>\n",
              "    </tr>\n",
              "    <tr>\n",
              "      <th>4</th>\n",
              "      <td>Dune: Part Two</td>\n",
              "      <td>2024</td>\n",
              "      <td>NA</td>\n",
              "      <td>NaN</td>\n",
              "      <td>NA</td>\n",
              "      <td>NA</td>\n",
              "      <td>NA</td>\n",
              "      <td>https://www.justwatch.com/in/movie/dune-part-two</td>\n",
              "      <td>NA</td>\n",
              "      <td>Movie</td>\n",
              "    </tr>\n",
              "    <tr>\n",
              "      <th>...</th>\n",
              "      <td>...</td>\n",
              "      <td>...</td>\n",
              "      <td>...</td>\n",
              "      <td>...</td>\n",
              "      <td>...</td>\n",
              "      <td>...</td>\n",
              "      <td>...</td>\n",
              "      <td>...</td>\n",
              "      <td>...</td>\n",
              "      <td>...</td>\n",
              "    </tr>\n",
              "    <tr>\n",
              "      <th>95</th>\n",
              "      <td>NA</td>\n",
              "      <td>NA</td>\n",
              "      <td>NA</td>\n",
              "      <td>7.7</td>\n",
              "      <td>NA</td>\n",
              "      <td>NA</td>\n",
              "      <td>NA</td>\n",
              "      <td>https://www.justwatch.com/in/tv-show/the-vampi...</td>\n",
              "      <td>NaN</td>\n",
              "      <td>Tv Show</td>\n",
              "    </tr>\n",
              "    <tr>\n",
              "      <th>96</th>\n",
              "      <td>NA</td>\n",
              "      <td>2024</td>\n",
              "      <td>NA</td>\n",
              "      <td>NaN</td>\n",
              "      <td>NA</td>\n",
              "      <td>NA</td>\n",
              "      <td>NA</td>\n",
              "      <td>https://www.justwatch.com/in/tv-show/the-goat</td>\n",
              "      <td>NaN</td>\n",
              "      <td>Tv Show</td>\n",
              "    </tr>\n",
              "    <tr>\n",
              "      <th>97</th>\n",
              "      <td>NA</td>\n",
              "      <td>NA</td>\n",
              "      <td>NA</td>\n",
              "      <td>NaN</td>\n",
              "      <td>NA</td>\n",
              "      <td>NA</td>\n",
              "      <td>NA</td>\n",
              "      <td>https://www.justwatch.com/in/tv-show/halo</td>\n",
              "      <td>NaN</td>\n",
              "      <td>Tv Show</td>\n",
              "    </tr>\n",
              "    <tr>\n",
              "      <th>98</th>\n",
              "      <td>NA</td>\n",
              "      <td>NA</td>\n",
              "      <td>NA</td>\n",
              "      <td>NaN</td>\n",
              "      <td>NA</td>\n",
              "      <td>NA</td>\n",
              "      <td>NA</td>\n",
              "      <td>https://www.justwatch.com/in/tv-show/kaiju-no-8</td>\n",
              "      <td>NaN</td>\n",
              "      <td>Tv Show</td>\n",
              "    </tr>\n",
              "    <tr>\n",
              "      <th>99</th>\n",
              "      <td>NA</td>\n",
              "      <td>NA</td>\n",
              "      <td>NA</td>\n",
              "      <td>NaN</td>\n",
              "      <td>NA</td>\n",
              "      <td>NA</td>\n",
              "      <td>NA</td>\n",
              "      <td>https://www.justwatch.com/in/tv-show/you</td>\n",
              "      <td>NaN</td>\n",
              "      <td>Tv Show</td>\n",
              "    </tr>\n",
              "  </tbody>\n",
              "</table>\n",
              "<p>200 rows × 10 columns</p>\n",
              "</div>\n",
              "    <div class=\"colab-df-buttons\">\n",
              "\n",
              "  <div class=\"colab-df-container\">\n",
              "    <button class=\"colab-df-convert\" onclick=\"convertToInteractive('df-3678c043-439e-4874-a4bd-52c98dac6e6e')\"\n",
              "            title=\"Convert this dataframe to an interactive table.\"\n",
              "            style=\"display:none;\">\n",
              "\n",
              "  <svg xmlns=\"http://www.w3.org/2000/svg\" height=\"24px\" viewBox=\"0 -960 960 960\">\n",
              "    <path d=\"M120-120v-720h720v720H120Zm60-500h600v-160H180v160Zm220 220h160v-160H400v160Zm0 220h160v-160H400v160ZM180-400h160v-160H180v160Zm440 0h160v-160H620v160ZM180-180h160v-160H180v160Zm440 0h160v-160H620v160Z\"/>\n",
              "  </svg>\n",
              "    </button>\n",
              "\n",
              "  <style>\n",
              "    .colab-df-container {\n",
              "      display:flex;\n",
              "      gap: 12px;\n",
              "    }\n",
              "\n",
              "    .colab-df-convert {\n",
              "      background-color: #E8F0FE;\n",
              "      border: none;\n",
              "      border-radius: 50%;\n",
              "      cursor: pointer;\n",
              "      display: none;\n",
              "      fill: #1967D2;\n",
              "      height: 32px;\n",
              "      padding: 0 0 0 0;\n",
              "      width: 32px;\n",
              "    }\n",
              "\n",
              "    .colab-df-convert:hover {\n",
              "      background-color: #E2EBFA;\n",
              "      box-shadow: 0px 1px 2px rgba(60, 64, 67, 0.3), 0px 1px 3px 1px rgba(60, 64, 67, 0.15);\n",
              "      fill: #174EA6;\n",
              "    }\n",
              "\n",
              "    .colab-df-buttons div {\n",
              "      margin-bottom: 4px;\n",
              "    }\n",
              "\n",
              "    [theme=dark] .colab-df-convert {\n",
              "      background-color: #3B4455;\n",
              "      fill: #D2E3FC;\n",
              "    }\n",
              "\n",
              "    [theme=dark] .colab-df-convert:hover {\n",
              "      background-color: #434B5C;\n",
              "      box-shadow: 0px 1px 3px 1px rgba(0, 0, 0, 0.15);\n",
              "      filter: drop-shadow(0px 1px 2px rgba(0, 0, 0, 0.3));\n",
              "      fill: #FFFFFF;\n",
              "    }\n",
              "  </style>\n",
              "\n",
              "    <script>\n",
              "      const buttonEl =\n",
              "        document.querySelector('#df-3678c043-439e-4874-a4bd-52c98dac6e6e button.colab-df-convert');\n",
              "      buttonEl.style.display =\n",
              "        google.colab.kernel.accessAllowed ? 'block' : 'none';\n",
              "\n",
              "      async function convertToInteractive(key) {\n",
              "        const element = document.querySelector('#df-3678c043-439e-4874-a4bd-52c98dac6e6e');\n",
              "        const dataTable =\n",
              "          await google.colab.kernel.invokeFunction('convertToInteractive',\n",
              "                                                    [key], {});\n",
              "        if (!dataTable) return;\n",
              "\n",
              "        const docLinkHtml = 'Like what you see? Visit the ' +\n",
              "          '<a target=\"_blank\" href=https://colab.research.google.com/notebooks/data_table.ipynb>data table notebook</a>'\n",
              "          + ' to learn more about interactive tables.';\n",
              "        element.innerHTML = '';\n",
              "        dataTable['output_type'] = 'display_data';\n",
              "        await google.colab.output.renderOutput(dataTable, element);\n",
              "        const docLink = document.createElement('div');\n",
              "        docLink.innerHTML = docLinkHtml;\n",
              "        element.appendChild(docLink);\n",
              "      }\n",
              "    </script>\n",
              "  </div>\n",
              "\n",
              "\n",
              "<div id=\"df-ccc84860-93a4-4382-b91a-3064084b9c19\">\n",
              "  <button class=\"colab-df-quickchart\" onclick=\"quickchart('df-ccc84860-93a4-4382-b91a-3064084b9c19')\"\n",
              "            title=\"Suggest charts\"\n",
              "            style=\"display:none;\">\n",
              "\n",
              "<svg xmlns=\"http://www.w3.org/2000/svg\" height=\"24px\"viewBox=\"0 0 24 24\"\n",
              "     width=\"24px\">\n",
              "    <g>\n",
              "        <path d=\"M19 3H5c-1.1 0-2 .9-2 2v14c0 1.1.9 2 2 2h14c1.1 0 2-.9 2-2V5c0-1.1-.9-2-2-2zM9 17H7v-7h2v7zm4 0h-2V7h2v10zm4 0h-2v-4h2v4z\"/>\n",
              "    </g>\n",
              "</svg>\n",
              "  </button>\n",
              "\n",
              "<style>\n",
              "  .colab-df-quickchart {\n",
              "      --bg-color: #E8F0FE;\n",
              "      --fill-color: #1967D2;\n",
              "      --hover-bg-color: #E2EBFA;\n",
              "      --hover-fill-color: #174EA6;\n",
              "      --disabled-fill-color: #AAA;\n",
              "      --disabled-bg-color: #DDD;\n",
              "  }\n",
              "\n",
              "  [theme=dark] .colab-df-quickchart {\n",
              "      --bg-color: #3B4455;\n",
              "      --fill-color: #D2E3FC;\n",
              "      --hover-bg-color: #434B5C;\n",
              "      --hover-fill-color: #FFFFFF;\n",
              "      --disabled-bg-color: #3B4455;\n",
              "      --disabled-fill-color: #666;\n",
              "  }\n",
              "\n",
              "  .colab-df-quickchart {\n",
              "    background-color: var(--bg-color);\n",
              "    border: none;\n",
              "    border-radius: 50%;\n",
              "    cursor: pointer;\n",
              "    display: none;\n",
              "    fill: var(--fill-color);\n",
              "    height: 32px;\n",
              "    padding: 0;\n",
              "    width: 32px;\n",
              "  }\n",
              "\n",
              "  .colab-df-quickchart:hover {\n",
              "    background-color: var(--hover-bg-color);\n",
              "    box-shadow: 0 1px 2px rgba(60, 64, 67, 0.3), 0 1px 3px 1px rgba(60, 64, 67, 0.15);\n",
              "    fill: var(--button-hover-fill-color);\n",
              "  }\n",
              "\n",
              "  .colab-df-quickchart-complete:disabled,\n",
              "  .colab-df-quickchart-complete:disabled:hover {\n",
              "    background-color: var(--disabled-bg-color);\n",
              "    fill: var(--disabled-fill-color);\n",
              "    box-shadow: none;\n",
              "  }\n",
              "\n",
              "  .colab-df-spinner {\n",
              "    border: 2px solid var(--fill-color);\n",
              "    border-color: transparent;\n",
              "    border-bottom-color: var(--fill-color);\n",
              "    animation:\n",
              "      spin 1s steps(1) infinite;\n",
              "  }\n",
              "\n",
              "  @keyframes spin {\n",
              "    0% {\n",
              "      border-color: transparent;\n",
              "      border-bottom-color: var(--fill-color);\n",
              "      border-left-color: var(--fill-color);\n",
              "    }\n",
              "    20% {\n",
              "      border-color: transparent;\n",
              "      border-left-color: var(--fill-color);\n",
              "      border-top-color: var(--fill-color);\n",
              "    }\n",
              "    30% {\n",
              "      border-color: transparent;\n",
              "      border-left-color: var(--fill-color);\n",
              "      border-top-color: var(--fill-color);\n",
              "      border-right-color: var(--fill-color);\n",
              "    }\n",
              "    40% {\n",
              "      border-color: transparent;\n",
              "      border-right-color: var(--fill-color);\n",
              "      border-top-color: var(--fill-color);\n",
              "    }\n",
              "    60% {\n",
              "      border-color: transparent;\n",
              "      border-right-color: var(--fill-color);\n",
              "    }\n",
              "    80% {\n",
              "      border-color: transparent;\n",
              "      border-right-color: var(--fill-color);\n",
              "      border-bottom-color: var(--fill-color);\n",
              "    }\n",
              "    90% {\n",
              "      border-color: transparent;\n",
              "      border-bottom-color: var(--fill-color);\n",
              "    }\n",
              "  }\n",
              "</style>\n",
              "\n",
              "  <script>\n",
              "    async function quickchart(key) {\n",
              "      const quickchartButtonEl =\n",
              "        document.querySelector('#' + key + ' button');\n",
              "      quickchartButtonEl.disabled = true;  // To prevent multiple clicks.\n",
              "      quickchartButtonEl.classList.add('colab-df-spinner');\n",
              "      try {\n",
              "        const charts = await google.colab.kernel.invokeFunction(\n",
              "            'suggestCharts', [key], {});\n",
              "      } catch (error) {\n",
              "        console.error('Error during call to suggestCharts:', error);\n",
              "      }\n",
              "      quickchartButtonEl.classList.remove('colab-df-spinner');\n",
              "      quickchartButtonEl.classList.add('colab-df-quickchart-complete');\n",
              "    }\n",
              "    (() => {\n",
              "      let quickchartButtonEl =\n",
              "        document.querySelector('#df-ccc84860-93a4-4382-b91a-3064084b9c19 button');\n",
              "      quickchartButtonEl.style.display =\n",
              "        google.colab.kernel.accessAllowed ? 'block' : 'none';\n",
              "    })();\n",
              "  </script>\n",
              "</div>\n",
              "\n",
              "  <div id=\"id_828dc0fc-93eb-4e14-8968-084da62ebba5\">\n",
              "    <style>\n",
              "      .colab-df-generate {\n",
              "        background-color: #E8F0FE;\n",
              "        border: none;\n",
              "        border-radius: 50%;\n",
              "        cursor: pointer;\n",
              "        display: none;\n",
              "        fill: #1967D2;\n",
              "        height: 32px;\n",
              "        padding: 0 0 0 0;\n",
              "        width: 32px;\n",
              "      }\n",
              "\n",
              "      .colab-df-generate:hover {\n",
              "        background-color: #E2EBFA;\n",
              "        box-shadow: 0px 1px 2px rgba(60, 64, 67, 0.3), 0px 1px 3px 1px rgba(60, 64, 67, 0.15);\n",
              "        fill: #174EA6;\n",
              "      }\n",
              "\n",
              "      [theme=dark] .colab-df-generate {\n",
              "        background-color: #3B4455;\n",
              "        fill: #D2E3FC;\n",
              "      }\n",
              "\n",
              "      [theme=dark] .colab-df-generate:hover {\n",
              "        background-color: #434B5C;\n",
              "        box-shadow: 0px 1px 3px 1px rgba(0, 0, 0, 0.15);\n",
              "        filter: drop-shadow(0px 1px 2px rgba(0, 0, 0, 0.3));\n",
              "        fill: #FFFFFF;\n",
              "      }\n",
              "    </style>\n",
              "    <button class=\"colab-df-generate\" onclick=\"generateWithVariable('final_data_df')\"\n",
              "            title=\"Generate code using this dataframe.\"\n",
              "            style=\"display:none;\">\n",
              "\n",
              "  <svg xmlns=\"http://www.w3.org/2000/svg\" height=\"24px\"viewBox=\"0 0 24 24\"\n",
              "       width=\"24px\">\n",
              "    <path d=\"M7,19H8.4L18.45,9,17,7.55,7,17.6ZM5,21V16.75L18.45,3.32a2,2,0,0,1,2.83,0l1.4,1.43a1.91,1.91,0,0,1,.58,1.4,1.91,1.91,0,0,1-.58,1.4L9.25,21ZM18.45,9,17,7.55Zm-12,3A5.31,5.31,0,0,0,4.9,8.1,5.31,5.31,0,0,0,1,6.5,5.31,5.31,0,0,0,4.9,4.9,5.31,5.31,0,0,0,6.5,1,5.31,5.31,0,0,0,8.1,4.9,5.31,5.31,0,0,0,12,6.5,5.46,5.46,0,0,0,6.5,12Z\"/>\n",
              "  </svg>\n",
              "    </button>\n",
              "    <script>\n",
              "      (() => {\n",
              "      const buttonEl =\n",
              "        document.querySelector('#id_828dc0fc-93eb-4e14-8968-084da62ebba5 button.colab-df-generate');\n",
              "      buttonEl.style.display =\n",
              "        google.colab.kernel.accessAllowed ? 'block' : 'none';\n",
              "\n",
              "      buttonEl.onclick = () => {\n",
              "        google.colab.notebook.generateWithVariable('final_data_df');\n",
              "      }\n",
              "      })();\n",
              "    </script>\n",
              "  </div>\n",
              "\n",
              "    </div>\n",
              "  </div>\n"
            ],
            "application/vnd.google.colaboratory.intrinsic+json": {
              "type": "dataframe",
              "variable_name": "final_data_df",
              "summary": "{\n  \"name\": \"final_data_df\",\n  \"rows\": 200,\n  \"fields\": [\n    {\n      \"column\": \"Title\",\n      \"properties\": {\n        \"dtype\": \"string\",\n        \"num_unique_values\": 107,\n        \"samples\": [\n          \"War for the Planet of the Apes\",\n          \"Yodha\",\n          \"Dune: Part Two\"\n        ],\n        \"semantic_type\": \"\",\n        \"description\": \"\"\n      }\n    },\n    {\n      \"column\": \"Release Year\",\n      \"properties\": {\n        \"dtype\": \"category\",\n        \"num_unique_values\": 12,\n        \"samples\": [\n          \"2017\",\n          \"2011\",\n          \"2024\"\n        ],\n        \"semantic_type\": \"\",\n        \"description\": \"\"\n      }\n    },\n    {\n      \"column\": \"Genre\",\n      \"properties\": {\n        \"dtype\": \"category\",\n        \"num_unique_values\": 12,\n        \"samples\": [\n          \"Comedy, Drama\",\n          \"Action & Adventure, Drama, Science-Fiction\",\n          \"NA\"\n        ],\n        \"semantic_type\": \"\",\n        \"description\": \"\"\n      }\n    },\n    {\n      \"column\": \"Imdb Rating\",\n      \"properties\": {\n        \"dtype\": \"category\",\n        \"num_unique_values\": 11,\n        \"samples\": [\n          \"6.7\",\n          \"6.3\",\n          \"8.7\"\n        ],\n        \"semantic_type\": \"\",\n        \"description\": \"\"\n      }\n    },\n    {\n      \"column\": \"Runtime\",\n      \"properties\": {\n        \"dtype\": \"category\",\n        \"num_unique_values\": 15,\n        \"samples\": [\n          \"47min\",\n          \"21min\",\n          \"NA\"\n        ],\n        \"semantic_type\": \"\",\n        \"description\": \"\"\n      }\n    },\n    {\n      \"column\": \"Age Rating\",\n      \"properties\": {\n        \"dtype\": \"category\",\n        \"num_unique_values\": 4,\n        \"samples\": [\n          \"UA\",\n          \"U\",\n          \"NA\"\n        ],\n        \"semantic_type\": \"\",\n        \"description\": \"\"\n      }\n    },\n    {\n      \"column\": \"Country origin\",\n      \"properties\": {\n        \"dtype\": \"category\",\n        \"num_unique_values\": 5,\n        \"samples\": [\n          \"India\",\n          \"Spain\",\n          \"United States\"\n        ],\n        \"semantic_type\": \"\",\n        \"description\": \"\"\n      }\n    },\n    {\n      \"column\": \"Url\",\n      \"properties\": {\n        \"dtype\": \"string\",\n        \"num_unique_values\": 200,\n        \"samples\": [\n          \"https://www.justwatch.com/in/movie/interstellar\",\n          \"https://www.justwatch.com/in/movie/monkey-man\",\n          \"https://www.justwatch.com/in/movie/hereditary\"\n        ],\n        \"semantic_type\": \"\",\n        \"description\": \"\"\n      }\n    },\n    {\n      \"column\": \"Streaming Provider\",\n      \"properties\": {\n        \"dtype\": \"category\",\n        \"num_unique_values\": 9,\n        \"samples\": [\n          \"Jio Cinema,Alt Balaji\",\n          \"Hotstar,aha\",\n          \"Amazon Prime Video\"\n        ],\n        \"semantic_type\": \"\",\n        \"description\": \"\"\n      }\n    },\n    {\n      \"column\": \"Type\",\n      \"properties\": {\n        \"dtype\": \"category\",\n        \"num_unique_values\": 2,\n        \"samples\": [\n          \"Tv Show\",\n          \"Movie\"\n        ],\n        \"semantic_type\": \"\",\n        \"description\": \"\"\n      }\n    }\n  ]\n}"
            }
          },
          "metadata": {},
          "execution_count": 48
        }
      ]
    },
    {
      "cell_type": "markdown",
      "source": [
        "## **Task 2 :- Data Filtering & Analysis**"
      ],
      "metadata": {
        "id": "CyqHHKh4IDx6"
      }
    },
    {
      "cell_type": "code",
      "source": [
        "# Write Your Code here\n",
        "\n",
        "final_data_df['Imdb Rating'] = final_data_df['Imdb Rating'].astype(float)"
      ],
      "metadata": {
        "id": "ly64H04vH1v9"
      },
      "execution_count": 49,
      "outputs": []
    },
    {
      "cell_type": "code",
      "source": [
        "## For Movies:\n",
        "\n",
        "start_date = '2022'\n",
        "end_date = '2024'\n",
        "min_rating = 7.0\n",
        "filter_data_df = final_data_df[(final_data_df[\"Release Year\"] >= start_date) & (final_data_df[\"Release Year\"] <= end_date) & (final_data_df[\"Imdb Rating\"] >= min_rating)]\n"
      ],
      "metadata": {
        "id": "UkPU_0cB7z9f"
      },
      "execution_count": 50,
      "outputs": []
    },
    {
      "cell_type": "code",
      "source": [
        "filter_data_df"
      ],
      "metadata": {
        "colab": {
          "base_uri": "https://localhost:8080/",
          "height": 89
        },
        "id": "gWSJEIGL75Tz",
        "outputId": "f223c575-33c4-42ea-faa5-9bba9ebf1f5b"
      },
      "execution_count": 51,
      "outputs": [
        {
          "output_type": "execute_result",
          "data": {
            "text/plain": [
              "                Title Release Year Genre  Imdb Rating Runtime Age Rating  \\\n",
              "24  Anatomy of a Fall         2023    NA          7.7      NA         NA   \n",
              "\n",
              "   Country origin                                                Url  \\\n",
              "24             NA  https://www.justwatch.com/in/movie/anatomie-du...   \n",
              "\n",
              "   Streaming Provider   Type  \n",
              "24                 NA  Movie  "
            ],
            "text/html": [
              "\n",
              "  <div id=\"df-e24f48a4-664b-49d3-b682-b03abbf91687\" class=\"colab-df-container\">\n",
              "    <div>\n",
              "<style scoped>\n",
              "    .dataframe tbody tr th:only-of-type {\n",
              "        vertical-align: middle;\n",
              "    }\n",
              "\n",
              "    .dataframe tbody tr th {\n",
              "        vertical-align: top;\n",
              "    }\n",
              "\n",
              "    .dataframe thead th {\n",
              "        text-align: right;\n",
              "    }\n",
              "</style>\n",
              "<table border=\"1\" class=\"dataframe\">\n",
              "  <thead>\n",
              "    <tr style=\"text-align: right;\">\n",
              "      <th></th>\n",
              "      <th>Title</th>\n",
              "      <th>Release Year</th>\n",
              "      <th>Genre</th>\n",
              "      <th>Imdb Rating</th>\n",
              "      <th>Runtime</th>\n",
              "      <th>Age Rating</th>\n",
              "      <th>Country origin</th>\n",
              "      <th>Url</th>\n",
              "      <th>Streaming Provider</th>\n",
              "      <th>Type</th>\n",
              "    </tr>\n",
              "  </thead>\n",
              "  <tbody>\n",
              "    <tr>\n",
              "      <th>24</th>\n",
              "      <td>Anatomy of a Fall</td>\n",
              "      <td>2023</td>\n",
              "      <td>NA</td>\n",
              "      <td>7.7</td>\n",
              "      <td>NA</td>\n",
              "      <td>NA</td>\n",
              "      <td>NA</td>\n",
              "      <td>https://www.justwatch.com/in/movie/anatomie-du...</td>\n",
              "      <td>NA</td>\n",
              "      <td>Movie</td>\n",
              "    </tr>\n",
              "  </tbody>\n",
              "</table>\n",
              "</div>\n",
              "    <div class=\"colab-df-buttons\">\n",
              "\n",
              "  <div class=\"colab-df-container\">\n",
              "    <button class=\"colab-df-convert\" onclick=\"convertToInteractive('df-e24f48a4-664b-49d3-b682-b03abbf91687')\"\n",
              "            title=\"Convert this dataframe to an interactive table.\"\n",
              "            style=\"display:none;\">\n",
              "\n",
              "  <svg xmlns=\"http://www.w3.org/2000/svg\" height=\"24px\" viewBox=\"0 -960 960 960\">\n",
              "    <path d=\"M120-120v-720h720v720H120Zm60-500h600v-160H180v160Zm220 220h160v-160H400v160Zm0 220h160v-160H400v160ZM180-400h160v-160H180v160Zm440 0h160v-160H620v160ZM180-180h160v-160H180v160Zm440 0h160v-160H620v160Z\"/>\n",
              "  </svg>\n",
              "    </button>\n",
              "\n",
              "  <style>\n",
              "    .colab-df-container {\n",
              "      display:flex;\n",
              "      gap: 12px;\n",
              "    }\n",
              "\n",
              "    .colab-df-convert {\n",
              "      background-color: #E8F0FE;\n",
              "      border: none;\n",
              "      border-radius: 50%;\n",
              "      cursor: pointer;\n",
              "      display: none;\n",
              "      fill: #1967D2;\n",
              "      height: 32px;\n",
              "      padding: 0 0 0 0;\n",
              "      width: 32px;\n",
              "    }\n",
              "\n",
              "    .colab-df-convert:hover {\n",
              "      background-color: #E2EBFA;\n",
              "      box-shadow: 0px 1px 2px rgba(60, 64, 67, 0.3), 0px 1px 3px 1px rgba(60, 64, 67, 0.15);\n",
              "      fill: #174EA6;\n",
              "    }\n",
              "\n",
              "    .colab-df-buttons div {\n",
              "      margin-bottom: 4px;\n",
              "    }\n",
              "\n",
              "    [theme=dark] .colab-df-convert {\n",
              "      background-color: #3B4455;\n",
              "      fill: #D2E3FC;\n",
              "    }\n",
              "\n",
              "    [theme=dark] .colab-df-convert:hover {\n",
              "      background-color: #434B5C;\n",
              "      box-shadow: 0px 1px 3px 1px rgba(0, 0, 0, 0.15);\n",
              "      filter: drop-shadow(0px 1px 2px rgba(0, 0, 0, 0.3));\n",
              "      fill: #FFFFFF;\n",
              "    }\n",
              "  </style>\n",
              "\n",
              "    <script>\n",
              "      const buttonEl =\n",
              "        document.querySelector('#df-e24f48a4-664b-49d3-b682-b03abbf91687 button.colab-df-convert');\n",
              "      buttonEl.style.display =\n",
              "        google.colab.kernel.accessAllowed ? 'block' : 'none';\n",
              "\n",
              "      async function convertToInteractive(key) {\n",
              "        const element = document.querySelector('#df-e24f48a4-664b-49d3-b682-b03abbf91687');\n",
              "        const dataTable =\n",
              "          await google.colab.kernel.invokeFunction('convertToInteractive',\n",
              "                                                    [key], {});\n",
              "        if (!dataTable) return;\n",
              "\n",
              "        const docLinkHtml = 'Like what you see? Visit the ' +\n",
              "          '<a target=\"_blank\" href=https://colab.research.google.com/notebooks/data_table.ipynb>data table notebook</a>'\n",
              "          + ' to learn more about interactive tables.';\n",
              "        element.innerHTML = '';\n",
              "        dataTable['output_type'] = 'display_data';\n",
              "        await google.colab.output.renderOutput(dataTable, element);\n",
              "        const docLink = document.createElement('div');\n",
              "        docLink.innerHTML = docLinkHtml;\n",
              "        element.appendChild(docLink);\n",
              "      }\n",
              "    </script>\n",
              "  </div>\n",
              "\n",
              "\n",
              "  <div id=\"id_437e577c-839d-4c9c-844b-1b0a14af6810\">\n",
              "    <style>\n",
              "      .colab-df-generate {\n",
              "        background-color: #E8F0FE;\n",
              "        border: none;\n",
              "        border-radius: 50%;\n",
              "        cursor: pointer;\n",
              "        display: none;\n",
              "        fill: #1967D2;\n",
              "        height: 32px;\n",
              "        padding: 0 0 0 0;\n",
              "        width: 32px;\n",
              "      }\n",
              "\n",
              "      .colab-df-generate:hover {\n",
              "        background-color: #E2EBFA;\n",
              "        box-shadow: 0px 1px 2px rgba(60, 64, 67, 0.3), 0px 1px 3px 1px rgba(60, 64, 67, 0.15);\n",
              "        fill: #174EA6;\n",
              "      }\n",
              "\n",
              "      [theme=dark] .colab-df-generate {\n",
              "        background-color: #3B4455;\n",
              "        fill: #D2E3FC;\n",
              "      }\n",
              "\n",
              "      [theme=dark] .colab-df-generate:hover {\n",
              "        background-color: #434B5C;\n",
              "        box-shadow: 0px 1px 3px 1px rgba(0, 0, 0, 0.15);\n",
              "        filter: drop-shadow(0px 1px 2px rgba(0, 0, 0, 0.3));\n",
              "        fill: #FFFFFF;\n",
              "      }\n",
              "    </style>\n",
              "    <button class=\"colab-df-generate\" onclick=\"generateWithVariable('filter_data_df')\"\n",
              "            title=\"Generate code using this dataframe.\"\n",
              "            style=\"display:none;\">\n",
              "\n",
              "  <svg xmlns=\"http://www.w3.org/2000/svg\" height=\"24px\"viewBox=\"0 0 24 24\"\n",
              "       width=\"24px\">\n",
              "    <path d=\"M7,19H8.4L18.45,9,17,7.55,7,17.6ZM5,21V16.75L18.45,3.32a2,2,0,0,1,2.83,0l1.4,1.43a1.91,1.91,0,0,1,.58,1.4,1.91,1.91,0,0,1-.58,1.4L9.25,21ZM18.45,9,17,7.55Zm-12,3A5.31,5.31,0,0,0,4.9,8.1,5.31,5.31,0,0,0,1,6.5,5.31,5.31,0,0,0,4.9,4.9,5.31,5.31,0,0,0,6.5,1,5.31,5.31,0,0,0,8.1,4.9,5.31,5.31,0,0,0,12,6.5,5.46,5.46,0,0,0,6.5,12Z\"/>\n",
              "  </svg>\n",
              "    </button>\n",
              "    <script>\n",
              "      (() => {\n",
              "      const buttonEl =\n",
              "        document.querySelector('#id_437e577c-839d-4c9c-844b-1b0a14af6810 button.colab-df-generate');\n",
              "      buttonEl.style.display =\n",
              "        google.colab.kernel.accessAllowed ? 'block' : 'none';\n",
              "\n",
              "      buttonEl.onclick = () => {\n",
              "        google.colab.notebook.generateWithVariable('filter_data_df');\n",
              "      }\n",
              "      })();\n",
              "    </script>\n",
              "  </div>\n",
              "\n",
              "    </div>\n",
              "  </div>\n"
            ],
            "application/vnd.google.colaboratory.intrinsic+json": {
              "type": "dataframe",
              "variable_name": "filter_data_df",
              "repr_error": "0"
            }
          },
          "metadata": {},
          "execution_count": 51
        }
      ]
    },
    {
      "cell_type": "markdown",
      "source": [
        "## **Calculating Mean IMDB Ratings for both Movies and Tv Shows**"
      ],
      "metadata": {
        "id": "0bPDbn-gPyfm"
      }
    },
    {
      "cell_type": "code",
      "source": [
        "# Write Your Code here\n",
        "Mean_Rating = final_data_df.groupby(\"Type\").agg({\"Imdb Rating\" : 'mean'})"
      ],
      "metadata": {
        "id": "6aGmGPOlIkk4"
      },
      "execution_count": 52,
      "outputs": []
    },
    {
      "cell_type": "code",
      "source": [
        "print(\"Mean Imdb Rating \\n\")\n",
        "Mean_Rating"
      ],
      "metadata": {
        "colab": {
          "base_uri": "https://localhost:8080/",
          "height": 178
        },
        "id": "RHmJ5Pqf7_wo",
        "outputId": "7f1fbbda-a6b3-4217-d70e-de9d52b77e75"
      },
      "execution_count": 53,
      "outputs": [
        {
          "output_type": "stream",
          "name": "stdout",
          "text": [
            "Mean Imdb Rating \n",
            "\n"
          ]
        },
        {
          "output_type": "execute_result",
          "data": {
            "text/plain": [
              "         Imdb Rating\n",
              "Type                \n",
              "Movie       6.700000\n",
              "Tv Show     8.271429"
            ],
            "text/html": [
              "\n",
              "  <div id=\"df-bec9c4b8-68cd-4c2e-9766-0f79ed0a82f4\" class=\"colab-df-container\">\n",
              "    <div>\n",
              "<style scoped>\n",
              "    .dataframe tbody tr th:only-of-type {\n",
              "        vertical-align: middle;\n",
              "    }\n",
              "\n",
              "    .dataframe tbody tr th {\n",
              "        vertical-align: top;\n",
              "    }\n",
              "\n",
              "    .dataframe thead th {\n",
              "        text-align: right;\n",
              "    }\n",
              "</style>\n",
              "<table border=\"1\" class=\"dataframe\">\n",
              "  <thead>\n",
              "    <tr style=\"text-align: right;\">\n",
              "      <th></th>\n",
              "      <th>Imdb Rating</th>\n",
              "    </tr>\n",
              "    <tr>\n",
              "      <th>Type</th>\n",
              "      <th></th>\n",
              "    </tr>\n",
              "  </thead>\n",
              "  <tbody>\n",
              "    <tr>\n",
              "      <th>Movie</th>\n",
              "      <td>6.700000</td>\n",
              "    </tr>\n",
              "    <tr>\n",
              "      <th>Tv Show</th>\n",
              "      <td>8.271429</td>\n",
              "    </tr>\n",
              "  </tbody>\n",
              "</table>\n",
              "</div>\n",
              "    <div class=\"colab-df-buttons\">\n",
              "\n",
              "  <div class=\"colab-df-container\">\n",
              "    <button class=\"colab-df-convert\" onclick=\"convertToInteractive('df-bec9c4b8-68cd-4c2e-9766-0f79ed0a82f4')\"\n",
              "            title=\"Convert this dataframe to an interactive table.\"\n",
              "            style=\"display:none;\">\n",
              "\n",
              "  <svg xmlns=\"http://www.w3.org/2000/svg\" height=\"24px\" viewBox=\"0 -960 960 960\">\n",
              "    <path d=\"M120-120v-720h720v720H120Zm60-500h600v-160H180v160Zm220 220h160v-160H400v160Zm0 220h160v-160H400v160ZM180-400h160v-160H180v160Zm440 0h160v-160H620v160ZM180-180h160v-160H180v160Zm440 0h160v-160H620v160Z\"/>\n",
              "  </svg>\n",
              "    </button>\n",
              "\n",
              "  <style>\n",
              "    .colab-df-container {\n",
              "      display:flex;\n",
              "      gap: 12px;\n",
              "    }\n",
              "\n",
              "    .colab-df-convert {\n",
              "      background-color: #E8F0FE;\n",
              "      border: none;\n",
              "      border-radius: 50%;\n",
              "      cursor: pointer;\n",
              "      display: none;\n",
              "      fill: #1967D2;\n",
              "      height: 32px;\n",
              "      padding: 0 0 0 0;\n",
              "      width: 32px;\n",
              "    }\n",
              "\n",
              "    .colab-df-convert:hover {\n",
              "      background-color: #E2EBFA;\n",
              "      box-shadow: 0px 1px 2px rgba(60, 64, 67, 0.3), 0px 1px 3px 1px rgba(60, 64, 67, 0.15);\n",
              "      fill: #174EA6;\n",
              "    }\n",
              "\n",
              "    .colab-df-buttons div {\n",
              "      margin-bottom: 4px;\n",
              "    }\n",
              "\n",
              "    [theme=dark] .colab-df-convert {\n",
              "      background-color: #3B4455;\n",
              "      fill: #D2E3FC;\n",
              "    }\n",
              "\n",
              "    [theme=dark] .colab-df-convert:hover {\n",
              "      background-color: #434B5C;\n",
              "      box-shadow: 0px 1px 3px 1px rgba(0, 0, 0, 0.15);\n",
              "      filter: drop-shadow(0px 1px 2px rgba(0, 0, 0, 0.3));\n",
              "      fill: #FFFFFF;\n",
              "    }\n",
              "  </style>\n",
              "\n",
              "    <script>\n",
              "      const buttonEl =\n",
              "        document.querySelector('#df-bec9c4b8-68cd-4c2e-9766-0f79ed0a82f4 button.colab-df-convert');\n",
              "      buttonEl.style.display =\n",
              "        google.colab.kernel.accessAllowed ? 'block' : 'none';\n",
              "\n",
              "      async function convertToInteractive(key) {\n",
              "        const element = document.querySelector('#df-bec9c4b8-68cd-4c2e-9766-0f79ed0a82f4');\n",
              "        const dataTable =\n",
              "          await google.colab.kernel.invokeFunction('convertToInteractive',\n",
              "                                                    [key], {});\n",
              "        if (!dataTable) return;\n",
              "\n",
              "        const docLinkHtml = 'Like what you see? Visit the ' +\n",
              "          '<a target=\"_blank\" href=https://colab.research.google.com/notebooks/data_table.ipynb>data table notebook</a>'\n",
              "          + ' to learn more about interactive tables.';\n",
              "        element.innerHTML = '';\n",
              "        dataTable['output_type'] = 'display_data';\n",
              "        await google.colab.output.renderOutput(dataTable, element);\n",
              "        const docLink = document.createElement('div');\n",
              "        docLink.innerHTML = docLinkHtml;\n",
              "        element.appendChild(docLink);\n",
              "      }\n",
              "    </script>\n",
              "  </div>\n",
              "\n",
              "\n",
              "<div id=\"df-1e5edc9a-e2bd-4533-b735-a54372222fff\">\n",
              "  <button class=\"colab-df-quickchart\" onclick=\"quickchart('df-1e5edc9a-e2bd-4533-b735-a54372222fff')\"\n",
              "            title=\"Suggest charts\"\n",
              "            style=\"display:none;\">\n",
              "\n",
              "<svg xmlns=\"http://www.w3.org/2000/svg\" height=\"24px\"viewBox=\"0 0 24 24\"\n",
              "     width=\"24px\">\n",
              "    <g>\n",
              "        <path d=\"M19 3H5c-1.1 0-2 .9-2 2v14c0 1.1.9 2 2 2h14c1.1 0 2-.9 2-2V5c0-1.1-.9-2-2-2zM9 17H7v-7h2v7zm4 0h-2V7h2v10zm4 0h-2v-4h2v4z\"/>\n",
              "    </g>\n",
              "</svg>\n",
              "  </button>\n",
              "\n",
              "<style>\n",
              "  .colab-df-quickchart {\n",
              "      --bg-color: #E8F0FE;\n",
              "      --fill-color: #1967D2;\n",
              "      --hover-bg-color: #E2EBFA;\n",
              "      --hover-fill-color: #174EA6;\n",
              "      --disabled-fill-color: #AAA;\n",
              "      --disabled-bg-color: #DDD;\n",
              "  }\n",
              "\n",
              "  [theme=dark] .colab-df-quickchart {\n",
              "      --bg-color: #3B4455;\n",
              "      --fill-color: #D2E3FC;\n",
              "      --hover-bg-color: #434B5C;\n",
              "      --hover-fill-color: #FFFFFF;\n",
              "      --disabled-bg-color: #3B4455;\n",
              "      --disabled-fill-color: #666;\n",
              "  }\n",
              "\n",
              "  .colab-df-quickchart {\n",
              "    background-color: var(--bg-color);\n",
              "    border: none;\n",
              "    border-radius: 50%;\n",
              "    cursor: pointer;\n",
              "    display: none;\n",
              "    fill: var(--fill-color);\n",
              "    height: 32px;\n",
              "    padding: 0;\n",
              "    width: 32px;\n",
              "  }\n",
              "\n",
              "  .colab-df-quickchart:hover {\n",
              "    background-color: var(--hover-bg-color);\n",
              "    box-shadow: 0 1px 2px rgba(60, 64, 67, 0.3), 0 1px 3px 1px rgba(60, 64, 67, 0.15);\n",
              "    fill: var(--button-hover-fill-color);\n",
              "  }\n",
              "\n",
              "  .colab-df-quickchart-complete:disabled,\n",
              "  .colab-df-quickchart-complete:disabled:hover {\n",
              "    background-color: var(--disabled-bg-color);\n",
              "    fill: var(--disabled-fill-color);\n",
              "    box-shadow: none;\n",
              "  }\n",
              "\n",
              "  .colab-df-spinner {\n",
              "    border: 2px solid var(--fill-color);\n",
              "    border-color: transparent;\n",
              "    border-bottom-color: var(--fill-color);\n",
              "    animation:\n",
              "      spin 1s steps(1) infinite;\n",
              "  }\n",
              "\n",
              "  @keyframes spin {\n",
              "    0% {\n",
              "      border-color: transparent;\n",
              "      border-bottom-color: var(--fill-color);\n",
              "      border-left-color: var(--fill-color);\n",
              "    }\n",
              "    20% {\n",
              "      border-color: transparent;\n",
              "      border-left-color: var(--fill-color);\n",
              "      border-top-color: var(--fill-color);\n",
              "    }\n",
              "    30% {\n",
              "      border-color: transparent;\n",
              "      border-left-color: var(--fill-color);\n",
              "      border-top-color: var(--fill-color);\n",
              "      border-right-color: var(--fill-color);\n",
              "    }\n",
              "    40% {\n",
              "      border-color: transparent;\n",
              "      border-right-color: var(--fill-color);\n",
              "      border-top-color: var(--fill-color);\n",
              "    }\n",
              "    60% {\n",
              "      border-color: transparent;\n",
              "      border-right-color: var(--fill-color);\n",
              "    }\n",
              "    80% {\n",
              "      border-color: transparent;\n",
              "      border-right-color: var(--fill-color);\n",
              "      border-bottom-color: var(--fill-color);\n",
              "    }\n",
              "    90% {\n",
              "      border-color: transparent;\n",
              "      border-bottom-color: var(--fill-color);\n",
              "    }\n",
              "  }\n",
              "</style>\n",
              "\n",
              "  <script>\n",
              "    async function quickchart(key) {\n",
              "      const quickchartButtonEl =\n",
              "        document.querySelector('#' + key + ' button');\n",
              "      quickchartButtonEl.disabled = true;  // To prevent multiple clicks.\n",
              "      quickchartButtonEl.classList.add('colab-df-spinner');\n",
              "      try {\n",
              "        const charts = await google.colab.kernel.invokeFunction(\n",
              "            'suggestCharts', [key], {});\n",
              "      } catch (error) {\n",
              "        console.error('Error during call to suggestCharts:', error);\n",
              "      }\n",
              "      quickchartButtonEl.classList.remove('colab-df-spinner');\n",
              "      quickchartButtonEl.classList.add('colab-df-quickchart-complete');\n",
              "    }\n",
              "    (() => {\n",
              "      let quickchartButtonEl =\n",
              "        document.querySelector('#df-1e5edc9a-e2bd-4533-b735-a54372222fff button');\n",
              "      quickchartButtonEl.style.display =\n",
              "        google.colab.kernel.accessAllowed ? 'block' : 'none';\n",
              "    })();\n",
              "  </script>\n",
              "</div>\n",
              "\n",
              "  <div id=\"id_3a3c8b96-63d3-42b5-a10f-4b86a3335d5e\">\n",
              "    <style>\n",
              "      .colab-df-generate {\n",
              "        background-color: #E8F0FE;\n",
              "        border: none;\n",
              "        border-radius: 50%;\n",
              "        cursor: pointer;\n",
              "        display: none;\n",
              "        fill: #1967D2;\n",
              "        height: 32px;\n",
              "        padding: 0 0 0 0;\n",
              "        width: 32px;\n",
              "      }\n",
              "\n",
              "      .colab-df-generate:hover {\n",
              "        background-color: #E2EBFA;\n",
              "        box-shadow: 0px 1px 2px rgba(60, 64, 67, 0.3), 0px 1px 3px 1px rgba(60, 64, 67, 0.15);\n",
              "        fill: #174EA6;\n",
              "      }\n",
              "\n",
              "      [theme=dark] .colab-df-generate {\n",
              "        background-color: #3B4455;\n",
              "        fill: #D2E3FC;\n",
              "      }\n",
              "\n",
              "      [theme=dark] .colab-df-generate:hover {\n",
              "        background-color: #434B5C;\n",
              "        box-shadow: 0px 1px 3px 1px rgba(0, 0, 0, 0.15);\n",
              "        filter: drop-shadow(0px 1px 2px rgba(0, 0, 0, 0.3));\n",
              "        fill: #FFFFFF;\n",
              "      }\n",
              "    </style>\n",
              "    <button class=\"colab-df-generate\" onclick=\"generateWithVariable('Mean_Rating')\"\n",
              "            title=\"Generate code using this dataframe.\"\n",
              "            style=\"display:none;\">\n",
              "\n",
              "  <svg xmlns=\"http://www.w3.org/2000/svg\" height=\"24px\"viewBox=\"0 0 24 24\"\n",
              "       width=\"24px\">\n",
              "    <path d=\"M7,19H8.4L18.45,9,17,7.55,7,17.6ZM5,21V16.75L18.45,3.32a2,2,0,0,1,2.83,0l1.4,1.43a1.91,1.91,0,0,1,.58,1.4,1.91,1.91,0,0,1-.58,1.4L9.25,21ZM18.45,9,17,7.55Zm-12,3A5.31,5.31,0,0,0,4.9,8.1,5.31,5.31,0,0,0,1,6.5,5.31,5.31,0,0,0,4.9,4.9,5.31,5.31,0,0,0,6.5,1,5.31,5.31,0,0,0,8.1,4.9,5.31,5.31,0,0,0,12,6.5,5.46,5.46,0,0,0,6.5,12Z\"/>\n",
              "  </svg>\n",
              "    </button>\n",
              "    <script>\n",
              "      (() => {\n",
              "      const buttonEl =\n",
              "        document.querySelector('#id_3a3c8b96-63d3-42b5-a10f-4b86a3335d5e button.colab-df-generate');\n",
              "      buttonEl.style.display =\n",
              "        google.colab.kernel.accessAllowed ? 'block' : 'none';\n",
              "\n",
              "      buttonEl.onclick = () => {\n",
              "        google.colab.notebook.generateWithVariable('Mean_Rating');\n",
              "      }\n",
              "      })();\n",
              "    </script>\n",
              "  </div>\n",
              "\n",
              "    </div>\n",
              "  </div>\n"
            ],
            "application/vnd.google.colaboratory.intrinsic+json": {
              "type": "dataframe",
              "variable_name": "Mean_Rating",
              "summary": "{\n  \"name\": \"Mean_Rating\",\n  \"rows\": 2,\n  \"fields\": [\n    {\n      \"column\": \"Type\",\n      \"properties\": {\n        \"dtype\": \"string\",\n        \"num_unique_values\": 2,\n        \"samples\": [\n          \"Tv Show\",\n          \"Movie\"\n        ],\n        \"semantic_type\": \"\",\n        \"description\": \"\"\n      }\n    },\n    {\n      \"column\": \"Imdb Rating\",\n      \"properties\": {\n        \"dtype\": \"number\",\n        \"std\": 1.111167799007431,\n        \"min\": 6.7,\n        \"max\": 8.27142857142857,\n        \"num_unique_values\": 2,\n        \"samples\": [\n          8.27142857142857,\n          6.7\n        ],\n        \"semantic_type\": \"\",\n        \"description\": \"\"\n      }\n    }\n  ]\n}"
            }
          },
          "metadata": {},
          "execution_count": 53
        }
      ]
    },
    {
      "cell_type": "markdown",
      "source": [
        "## **Analyzing Top Genres**"
      ],
      "metadata": {
        "id": "N_OroblUQG4r"
      }
    },
    {
      "cell_type": "code",
      "source": [
        "# Write Your Code here\n",
        "## for Movies\n",
        "Genre_count = final_data_df['Genre'].value_counts().sort_values(ascending=False)\n",
        "Top_5_genres_visulalize = Genre_count.head(5)\n",
        "Top_5_genres = Genre_count.head(5).index.tolist()\n",
        "\n",
        "print(Top_5_genres[1:]) # 1st being NA due to such high data inconsistency.. Therefore starting from 2nd item"
      ],
      "metadata": {
        "id": "4ljPnIn2LJLZ",
        "colab": {
          "base_uri": "https://localhost:8080/"
        },
        "outputId": "4ef9a16f-2330-4131-a70e-9a75452b772f"
      },
      "execution_count": 54,
      "outputs": [
        {
          "output_type": "stream",
          "name": "stdout",
          "text": [
            "['Drama', 'Science-Fiction, Fantasy, Action & Adventure, Comedy', 'Mystery & Thriller, Horror, Drama', 'Science-Fiction, Mystery & Thriller, Action & Adventure, Comedy']\n"
          ]
        }
      ]
    },
    {
      "cell_type": "code",
      "source": [
        "#Let's Visvalize it using word cloud\n",
        "\n",
        "!pip install wordcloud\n"
      ],
      "metadata": {
        "id": "7Nqu7MEEYa3c",
        "colab": {
          "base_uri": "https://localhost:8080/"
        },
        "outputId": "7068dc82-ef3e-43ad-9949-f205be51d6ff"
      },
      "execution_count": 55,
      "outputs": [
        {
          "output_type": "stream",
          "name": "stdout",
          "text": [
            "Requirement already satisfied: wordcloud in /usr/local/lib/python3.10/dist-packages (1.9.3)\n",
            "Requirement already satisfied: numpy>=1.6.1 in /usr/local/lib/python3.10/dist-packages (from wordcloud) (1.25.2)\n",
            "Requirement already satisfied: pillow in /usr/local/lib/python3.10/dist-packages (from wordcloud) (9.4.0)\n",
            "Requirement already satisfied: matplotlib in /usr/local/lib/python3.10/dist-packages (from wordcloud) (3.7.1)\n",
            "Requirement already satisfied: contourpy>=1.0.1 in /usr/local/lib/python3.10/dist-packages (from matplotlib->wordcloud) (1.2.1)\n",
            "Requirement already satisfied: cycler>=0.10 in /usr/local/lib/python3.10/dist-packages (from matplotlib->wordcloud) (0.12.1)\n",
            "Requirement already satisfied: fonttools>=4.22.0 in /usr/local/lib/python3.10/dist-packages (from matplotlib->wordcloud) (4.51.0)\n",
            "Requirement already satisfied: kiwisolver>=1.0.1 in /usr/local/lib/python3.10/dist-packages (from matplotlib->wordcloud) (1.4.5)\n",
            "Requirement already satisfied: packaging>=20.0 in /usr/local/lib/python3.10/dist-packages (from matplotlib->wordcloud) (24.0)\n",
            "Requirement already satisfied: pyparsing>=2.3.1 in /usr/local/lib/python3.10/dist-packages (from matplotlib->wordcloud) (3.1.2)\n",
            "Requirement already satisfied: python-dateutil>=2.7 in /usr/local/lib/python3.10/dist-packages (from matplotlib->wordcloud) (2.8.2)\n",
            "Requirement already satisfied: six>=1.5 in /usr/local/lib/python3.10/dist-packages (from python-dateutil>=2.7->matplotlib->wordcloud) (1.16.0)\n"
          ]
        }
      ]
    },
    {
      "cell_type": "code",
      "source": [
        "from wordcloud import WordCloud\n",
        "import matplotlib.pyplot as plt\n",
        "\n",
        "# Create a WordCloud object\n",
        "wordcloud = WordCloud(width=800, height=400, background_color='white').generate_from_frequencies(Top_5_genres_visulalize[1:])\n",
        "\n",
        "# Display the word cloud using matplotlib\n",
        "plt.figure(figsize=(10, 5))\n",
        "plt.imshow(wordcloud, interpolation='bilinear')\n",
        "plt.axis('off')  # Remove axis\n",
        "plt.title('Top 5 Genres with the Most Movies and TV Shows (Word Cloud)')\n",
        "plt.show()\n"
      ],
      "metadata": {
        "colab": {
          "base_uri": "https://localhost:8080/",
          "height": 444
        },
        "id": "LodxvXXP87oE",
        "outputId": "d545fad1-fbe3-49eb-8e6d-4137025b4033"
      },
      "execution_count": 56,
      "outputs": [
        {
          "output_type": "display_data",
          "data": {
            "text/plain": [
              "<Figure size 1000x500 with 1 Axes>"
            ],
            "image/png": "[encoded data removed]"
          },
          "metadata": {}
        }
      ]
    },
    {
      "cell_type": "markdown",
      "source": [
        "## **Finding Predominant Streaming Service**"
      ],
      "metadata": {
        "id": "BUPye0P0QP5I"
      }
    },
    {
      "cell_type": "code",
      "source": [
        "# Write Your Code here\n",
        "Streaming_service_counts = final_data_df['Streaming Provider'].value_counts().sort_values(ascending = False)\n",
        "\n",
        "print(Streaming_service_counts) #First and second being NA and NaN values due to website inconsistency..."
      ],
      "metadata": {
        "id": "cLXiCZSAO_40",
        "colab": {
          "base_uri": "https://localhost:8080/"
        },
        "outputId": "5bec60ec-6d18-4cbf-9c49-e741025e0ca4"
      },
      "execution_count": 57,
      "outputs": [
        {
          "output_type": "stream",
          "name": "stdout",
          "text": [
            "Streaming Provider\n",
            "NA                       95\n",
            "NaN                      94\n",
            "Netflix                   3\n",
            "Hotstar                   3\n",
            "Hotstar,aha               1\n",
            "Jio Cinema                1\n",
            "Amazon Prime Video        1\n",
            "Jio Cinema,Alt Balaji     1\n",
            "Netflix,Sony Liv          1\n",
            "Name: count, dtype: int64\n"
          ]
        }
      ]
    },
    {
      "cell_type": "code",
      "source": [
        "#Let's Visvalize it using word cloud\n",
        "from wordcloud import WordCloud\n",
        "import matplotlib.pyplot as plt\\\n",
        "\n",
        "# Create a WordCloud object\n",
        "wordcloud = WordCloud(width=800, height=400, background_color='black').generate_from_frequencies(Streaming_service_counts[2:])\n",
        "\n",
        "# Display the word cloud using matplotlib\n",
        "plt.figure(figsize=(10, 5))\n",
        "plt.imshow(wordcloud, interpolation='bilinear')\n",
        "plt.axis('off')  # Remove axis\n",
        "plt.title('Top Streaming Services')\n",
        "plt.show()"
      ],
      "metadata": {
        "id": "e0xdIO8APJYm",
        "colab": {
          "base_uri": "https://localhost:8080/",
          "height": 444
        },
        "outputId": "2e29b1e5-9788-459a-eaf5-ded6ebe26206"
      },
      "execution_count": 63,
      "outputs": [
        {
          "output_type": "display_data",
          "data": {
            "text/plain": [
              "<Figure size 1000x500 with 1 Axes>"
            ],
            "image/png": "[encoded data removed]"
          },
          "metadata": {}
        }
      ]
    },
    {
      "cell_type": "markdown",
      "source": [
        "## **Task 3 :- Data Export**"
      ],
      "metadata": {
        "id": "tytqsADVR2x6"
      }
    },
    {
      "cell_type": "code",
      "source": [
        "#saving final dataframe as Final Data in csv format\n",
        "final_data_df.to_csv(\"Final Data.csv\")"
      ],
      "metadata": {
        "id": "u4yaUlvrRj6g"
      },
      "execution_count": 59,
      "outputs": []
    },
    {
      "cell_type": "code",
      "source": [
        "#saving filter data as Filter Data in csv format\n",
        "\n",
        "#saving filter data as Filter Data in csv format\n",
        "filter_data_df.to_csv(\"Filtered Data.csv\")"
      ],
      "metadata": {
        "id": "SSmCEV22SSW_"
      },
      "execution_count": 60,
      "outputs": []
    },
    {
      "cell_type": "markdown",
      "source": [
        "# **Dataset Drive Link (View Access with Anyone) -**"
      ],
      "metadata": {
        "id": "j6F3wrlGWOcl"
      }
    },
    {
      "cell_type": "markdown",
      "source": [
        "# ***Congratulations!!! You have completed your Assignment.***"
      ],
      "metadata": {
        "id": "9s-10dFhWZf4"
      }
    }
  ]
}